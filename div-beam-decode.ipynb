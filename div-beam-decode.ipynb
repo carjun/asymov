{
 "cells": [
  {
   "cell_type": "code",
   "execution_count": 7,
   "metadata": {},
   "outputs": [],
   "source": [
    "import torch\n",
    "a = torch.tensor([[615, 380, 211, 934, 407],\n",
    "                [615, 934, 407, 270, 380],\n",
    "                [615, 380, 934, 407, 270],\n",
    "                [615, 934, 407, 270, 957],\n",
    "                [615, 380, 270, 407, 777],\n",
    "                [615, 784, 572, 385, 380],\n",
    "                [615, 572, 385, 288, 784],\n",
    "                [615, 784, 784, 385, 288],\n",
    "                [615, 380, 572, 385, 784],\n",
    "                [615, 784, 572, 385, 589]])\n",
    "\n",
    "bol = torch.zeros(a.shape, dtype=torch.bool)\n",
    "bol[:2, 0] = True"
   ]
  },
  {
   "cell_type": "code",
   "execution_count": 8,
   "metadata": {},
   "outputs": [
    {
     "data": {
      "text/plain": [
       "tensor([[ True, False, False, False, False],\n",
       "        [ True, False, False, False, False],\n",
       "        [False, False, False, False, False],\n",
       "        [False, False, False, False, False],\n",
       "        [False, False, False, False, False],\n",
       "        [False, False, False, False, False],\n",
       "        [False, False, False, False, False],\n",
       "        [False, False, False, False, False],\n",
       "        [False, False, False, False, False],\n",
       "        [False, False, False, False, False]])"
      ]
     },
     "execution_count": 8,
     "metadata": {},
     "output_type": "execute_result"
    }
   ],
   "source": [
    "bol"
   ]
  },
  {
   "cell_type": "code",
   "execution_count": 9,
   "metadata": {},
   "outputs": [
    {
     "data": {
      "text/plain": [
       "(tensor([[[615]],\n",
       " \n",
       "         [[615]]]),\n",
       " tensor([[[615, 380, 934, 407, 270]],\n",
       " \n",
       "         [[615, 934, 407, 270, 957]]]))"
      ]
     },
     "execution_count": 9,
     "metadata": {},
     "output_type": "execute_result"
    }
   ],
   "source": [
    "a[bol].reshape(-1,2).T.unsqueeze(-1), a[2:4][:, None]"
   ]
  },
  {
   "cell_type": "code",
   "execution_count": 10,
   "metadata": {},
   "outputs": [
    {
     "data": {
      "text/plain": [
       "tensor([[[ True, False, False, False, False]],\n",
       "\n",
       "        [[ True, False, False, False, False]]])"
      ]
     },
     "execution_count": 10,
     "metadata": {},
     "output_type": "execute_result"
    }
   ],
   "source": [
    "unique_token_idx = torch.argmin((a[bol].reshape(-1,2).T.unsqueeze(-1) == a[2:4][:, None]).any(1).long(), axis=1)\n",
    "a[bol].reshape(-1,2).T.unsqueeze(-1) == a[2:4][:, None] #same as above, just w/o any().long() and argmin applied"
   ]
  },
  {
   "cell_type": "code",
   "execution_count": 11,
   "metadata": {},
   "outputs": [
    {
     "data": {
      "text/plain": [
       "tensor([[ True, False, False, False, False],\n",
       "        [ True, False, False, False, False],\n",
       "        [False,  True, False, False, False],\n",
       "        [False,  True, False, False, False],\n",
       "        [False, False, False, False, False],\n",
       "        [False, False, False, False, False],\n",
       "        [False, False, False, False, False],\n",
       "        [False, False, False, False, False],\n",
       "        [False, False, False, False, False],\n",
       "        [False, False, False, False, False]])"
      ]
     },
     "execution_count": 11,
     "metadata": {},
     "output_type": "execute_result"
    }
   ],
   "source": [
    "bol[torch.arange(2, 4), unique_token_idx] = True\n",
    "bol\n"
   ]
  },
  {
   "attachments": {},
   "cell_type": "markdown",
   "metadata": {},
   "source": [
    "significance of this line shown below"
   ]
  },
  {
   "cell_type": "code",
   "execution_count": 12,
   "metadata": {},
   "outputs": [
    {
     "data": {
      "text/plain": [
       "(tensor([[[615],\n",
       "          [380]],\n",
       " \n",
       "         [[615],\n",
       "          [934]]]),\n",
       " tensor([[[615, 380, 270, 407, 777]],\n",
       " \n",
       "         [[615, 784, 572, 385, 380]]]))"
      ]
     },
     "execution_count": 12,
     "metadata": {},
     "output_type": "execute_result"
    }
   ],
   "source": [
    "a[bol].reshape(-1,2).T.unsqueeze(-1), a[4:6][:, None]"
   ]
  }
 ],
 "metadata": {
  "kernelspec": {
   "display_name": "Python 3",
   "language": "python",
   "name": "python3"
  },
  "language_info": {
   "codemirror_mode": {
    "name": "ipython",
    "version": 3
   },
   "file_extension": ".py",
   "mimetype": "text/x-python",
   "name": "python",
   "nbconvert_exporter": "python",
   "pygments_lexer": "ipython3",
   "version": "3.10.10"
  },
  "orig_nbformat": 4
 },
 "nbformat": 4,
 "nbformat_minor": 2
}
