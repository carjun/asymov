{
 "cells": [
  {
   "cell_type": "code",
   "execution_count": 17,
   "metadata": {},
   "outputs": [],
   "source": [
    "import torch\n",
    "a = torch.Tensor([[1,1,1],\n",
    "                  [2,2,2],\n",
    "                  [3,3,3],\n",
    "                  [4,4,4],\n",
    "                  [5,5,5],\n",
    "                  [6,6,6]])\n",
    "\n",
    "beam_width = 3\n",
    "batch_size = 2 \n",
    "# a.T.reshape(3, -1).T.reshape(-1, a.shape[0], 3).permute(0,2,1).reshape(-1, a.shape[0])"
   ]
  },
  {
   "cell_type": "code",
   "execution_count": 18,
   "metadata": {},
   "outputs": [
    {
     "data": {
      "text/plain": [
       "tensor([[1., 1., 1.],\n",
       "        [3., 3., 3.],\n",
       "        [5., 5., 5.],\n",
       "        [2., 2., 2.],\n",
       "        [4., 4., 4.],\n",
       "        [6., 6., 6.]])"
      ]
     },
     "execution_count": 18,
     "metadata": {},
     "output_type": "execute_result"
    }
   ],
   "source": [
    "a.reshape(beam_width,batch_size, a.size(1)).transpose(0,1).reshape(beam_width*batch_size,a.size(1))"
   ]
  },
  {
   "cell_type": "code",
   "execution_count": 12,
   "metadata": {},
   "outputs": [
    {
     "data": {
      "text/plain": [
       "tensor([[[1., 1., 1.],\n",
       "         [2., 2., 2.]],\n",
       "\n",
       "        [[3., 3., 3.],\n",
       "         [4., 4., 4.]],\n",
       "\n",
       "        [[5., 5., 5.],\n",
       "         [6., 6., 6.]]])"
      ]
     },
     "execution_count": 12,
     "metadata": {},
     "output_type": "execute_result"
    }
   ],
   "source": [
    "a = a.reshape(3, 2, 3)\n",
    "a"
   ]
  },
  {
   "cell_type": "code",
   "execution_count": 13,
   "metadata": {},
   "outputs": [
    {
     "data": {
      "text/plain": [
       "tensor([[[1., 1., 1.],\n",
       "         [3., 3., 3.],\n",
       "         [5., 5., 5.]],\n",
       "\n",
       "        [[2., 2., 2.],\n",
       "         [4., 4., 4.],\n",
       "         [6., 6., 6.]]])"
      ]
     },
     "execution_count": 13,
     "metadata": {},
     "output_type": "execute_result"
    }
   ],
   "source": [
    "a = a.transpose(0,1)\n",
    "a"
   ]
  },
  {
   "cell_type": "code",
   "execution_count": 14,
   "metadata": {},
   "outputs": [
    {
     "data": {
      "text/plain": [
       "tensor([[1., 1., 1.],\n",
       "        [3., 3., 3.],\n",
       "        [5., 5., 5.],\n",
       "        [2., 2., 2.],\n",
       "        [4., 4., 4.],\n",
       "        [6., 6., 6.]])"
      ]
     },
     "execution_count": 14,
     "metadata": {},
     "output_type": "execute_result"
    }
   ],
   "source": [
    "a = a.reshape(6,3)\n",
    "a"
   ]
  }
 ],
 "metadata": {
  "kernelspec": {
   "display_name": "Python 3",
   "language": "python",
   "name": "python3"
  },
  "language_info": {
   "codemirror_mode": {
    "name": "ipython",
    "version": 3
   },
   "file_extension": ".py",
   "mimetype": "text/x-python",
   "name": "python",
   "nbconvert_exporter": "python",
   "pygments_lexer": "ipython3",
   "version": "3.10.10"
  },
  "orig_nbformat": 4
 },
 "nbformat": 4,
 "nbformat_minor": 2
}
