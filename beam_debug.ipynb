{
 "cells": [
  {
   "cell_type": "code",
   "execution_count": 17,
   "metadata": {},
   "outputs": [],
   "source": [
    "import torch\n",
    "a = torch.Tensor([[1,1,1],\n",
    "                  [2,2,2],\n",
    "                  [3,3,3],\n",
    "                  [4,4,4],\n",
    "                  [5,5,5],\n",
    "                  [6,6,6]])\n",
    "\n",
    "beam_width = 3\n",
    "batch_size = 2 \n",
    "# a.T.reshape(3, -1).T.reshape(-1, a.shape[0], 3).permute(0,2,1).reshape(-1, a.shape[0])"
   ]
  },
  {
   "cell_type": "code",
   "execution_count": 18,
   "metadata": {},
   "outputs": [
    {
     "data": {
      "text/plain": [
       "tensor([[1., 1., 1.],\n",
       "        [3., 3., 3.],\n",
       "        [5., 5., 5.],\n",
       "        [2., 2., 2.],\n",
       "        [4., 4., 4.],\n",
       "        [6., 6., 6.]])"
      ]
     },
     "execution_count": 18,
     "metadata": {},
     "output_type": "execute_result"
    }
   ],
   "source": [
    "a.reshape(beam_width,batch_size, a.size(1)).transpose(0,1).reshape(beam_width*batch_size,a.size(1))"
   ]
  },
  {
   "cell_type": "code",
   "execution_count": 12,
   "metadata": {},
   "outputs": [
    {
     "data": {
      "text/plain": [
       "tensor([[[1., 1., 1.],\n",
       "         [2., 2., 2.]],\n",
       "\n",
       "        [[3., 3., 3.],\n",
       "         [4., 4., 4.]],\n",
       "\n",
       "        [[5., 5., 5.],\n",
       "         [6., 6., 6.]]])"
      ]
     },
     "execution_count": 12,
     "metadata": {},
     "output_type": "execute_result"
    }
   ],
   "source": [
    "a = a.reshape(3, 2, 3)\n",
    "a"
   ]
  },
  {
   "cell_type": "code",
   "execution_count": 13,
   "metadata": {},
   "outputs": [
    {
     "data": {
      "text/plain": [
       "tensor([[[1., 1., 1.],\n",
       "         [3., 3., 3.],\n",
       "         [5., 5., 5.]],\n",
       "\n",
       "        [[2., 2., 2.],\n",
       "         [4., 4., 4.],\n",
       "         [6., 6., 6.]]])"
      ]
     },
     "execution_count": 13,
     "metadata": {},
     "output_type": "execute_result"
    }
   ],
   "source": [
    "a = a.transpose(0,1)\n",
    "a"
   ]
  },
  {
   "cell_type": "code",
   "execution_count": 14,
   "metadata": {},
   "outputs": [
    {
     "data": {
      "text/plain": [
       "tensor([[1., 1., 1.],\n",
       "        [3., 3., 3.],\n",
       "        [5., 5., 5.],\n",
       "        [2., 2., 2.],\n",
       "        [4., 4., 4.],\n",
       "        [6., 6., 6.]])"
      ]
     },
     "execution_count": 14,
     "metadata": {},
     "output_type": "execute_result"
    }
   ],
   "source": [
    "a = a.reshape(6,3)\n",
    "a"
   ]
  },
  {
   "cell_type": "code",
   "execution_count": 40,
   "metadata": {},
   "outputs": [
    {
     "data": {
      "text/plain": [
       "tensor([1., 1., 1., 1., 1., 2., 2., 2., 2., 2.])"
      ]
     },
     "execution_count": 40,
     "metadata": {},
     "output_type": "execute_result"
    }
   ],
   "source": [
    "torch.Tensor([1,2]).repeat_interleave(5)"
   ]
  },
  {
   "cell_type": "code",
   "execution_count": 11,
   "metadata": {},
   "outputs": [],
   "source": [
    "import torch\n",
    "a = torch.Tensor([[482, 590, 871, 158,  40],\n",
    "                [482, 505, 313,  10, 876],\n",
    "                [482, 590, 313, 661,  10],\n",
    "                [590,  36,  40, 999, 482],\n",
    "                [158, 590, 482, 182, 871]])\n",
    "selected = []\n",
    "for j in range(a.size(0)):\n",
    "    selected.append(a[j].argmax().item())"
   ]
  },
  {
   "cell_type": "code",
   "execution_count": 17,
   "metadata": {},
   "outputs": [],
   "source": [
    "a[torch.arange(len(selected)), selected] = 0"
   ]
  },
  {
   "cell_type": "code",
   "execution_count": null,
   "metadata": {},
   "outputs": [],
   "source": []
  }
 ],
 "metadata": {
  "kernelspec": {
   "display_name": "Python 3",
   "language": "python",
   "name": "python3"
  },
  "language_info": {
   "codemirror_mode": {
    "name": "ipython",
    "version": 3
   },
   "file_extension": ".py",
   "mimetype": "text/x-python",
   "name": "python",
   "nbconvert_exporter": "python",
   "pygments_lexer": "ipython3",
   "version": "3.10.10"
  },
  "orig_nbformat": 4
 },
 "nbformat": 4,
 "nbformat_minor": 2
}
