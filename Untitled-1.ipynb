{
 "cells": [
  {
   "cell_type": "code",
   "execution_count": 1,
   "metadata": {},
   "outputs": [],
   "source": [
    "import torch"
   ]
  },
  {
   "cell_type": "code",
   "execution_count": 23,
   "metadata": {},
   "outputs": [],
   "source": [
    "a = torch.tensor([[-0.8838,  0.0652, -0.3634],\n",
    "             [-1.1894, -0.0717, -0.0899]])\n",
    "b = torch.tensor([[-0.8838,  0.0652, -0.3634],\n",
    "             [-1.1894, -0.0717, -0.0899]])"
   ]
  },
  {
   "cell_type": "code",
   "execution_count": 26,
   "metadata": {},
   "outputs": [
    {
     "data": {
      "text/plain": [
       "torch.Size([2, 3])"
      ]
     },
     "execution_count": 26,
     "metadata": {},
     "output_type": "execute_result"
    }
   ],
   "source": [
    "a.shape"
   ]
  },
  {
   "cell_type": "code",
   "execution_count": 29,
   "metadata": {},
   "outputs": [
    {
     "data": {
      "text/plain": [
       "tensor([[-0.8838,  0.0652, -0.3634],\n",
       "        [-1.1894, -0.0717, -0.0899],\n",
       "        [ 0.0000,  0.0000,  0.0000]])"
      ]
     },
     "execution_count": 29,
     "metadata": {},
     "output_type": "execute_result"
    }
   ],
   "source": [
    "torch.cat((a,torch.tensor([0, 0, 0]).unsqueeze(0)), 0)"
   ]
  },
  {
   "cell_type": "code",
   "execution_count": 14,
   "metadata": {},
   "outputs": [],
   "source": [
    "c = torch.tensor([])"
   ]
  },
  {
   "cell_type": "code",
   "execution_count": 16,
   "metadata": {},
   "outputs": [],
   "source": [
    "c = torch.cat((a,c), -1)"
   ]
  },
  {
   "cell_type": "code",
   "execution_count": 4,
   "metadata": {},
   "outputs": [
    {
     "data": {
      "text/plain": [
       "tensor([False,  True, False,  True,  True])"
      ]
     },
     "execution_count": 4,
     "metadata": {},
     "output_type": "execute_result"
    }
   ],
   "source": [
    "torch.tensor([1,0,1,0,0]) == 0"
   ]
  },
  {
   "cell_type": "code",
   "execution_count": 6,
   "metadata": {},
   "outputs": [],
   "source": [
    "t = torch.tensor([[-1.1773,  0.3129, -0.4569, -0.6201,  0.8288, -0.6680],\n",
    "        [-1.4264,  0.1560, -0.3141, -0.4562,  0.5652, -0.3873]])\n",
    "c = torch.tensor([])\n",
    "\n",
    "c = torch.cat((c,t), -1)\n"
   ]
  },
  {
   "cell_type": "code",
   "execution_count": 12,
   "metadata": {},
   "outputs": [
    {
     "data": {
      "text/plain": [
       "tensor([[-1.1773,  0.3129, -0.4569],\n",
       "        [-0.6201,  0.8288, -0.6680],\n",
       "        [-1.4264,  0.1560, -0.3141],\n",
       "        [-0.4562,  0.5652, -0.3873]])"
      ]
     },
     "execution_count": 12,
     "metadata": {},
     "output_type": "execute_result"
    }
   ],
   "source": [
    "t.reshape(4,-1)"
   ]
  },
  {
   "cell_type": "code",
   "execution_count": 11,
   "metadata": {},
   "outputs": [
    {
     "data": {
      "text/plain": [
       "tensor([[ True,  True,  True],\n",
       "        [ True, False,  True],\n",
       "        [ True,  True,  True],\n",
       "        [ True, False,  True]])"
      ]
     },
     "execution_count": 11,
     "metadata": {},
     "output_type": "execute_result"
    }
   ],
   "source": [
    "t.reshape(4,-1) <= 0.5"
   ]
  },
  {
   "cell_type": "code",
   "execution_count": null,
   "metadata": {},
   "outputs": [],
   "source": [
    "next = torch.tensor([[],\n",
    "                     []])"
   ]
  },
  {
   "cell_type": "code",
   "execution_count": null,
   "metadata": {},
   "outputs": [],
   "source": [
    "torch.cat((tgt.unsqueeze(-2),next_chars.transpose(1,0).unsqueeze(-2)), -2)"
   ]
  },
  {
   "cell_type": "code",
   "execution_count": 36,
   "metadata": {},
   "outputs": [
    {
     "data": {
      "text/plain": [
       "(tensor([[0, 1, 4, 2, 3],\n",
       "         [4, 2, 0, 3, 1]]),\n",
       " torch.Size([2, 5]))"
      ]
     },
     "execution_count": 36,
     "metadata": {},
     "output_type": "execute_result"
    }
   ],
   "source": [
    "indexes = torch.tensor([[0.6125, 1.6125, 4.6125, 2.6125, 3.6125],\n",
    "        [4.6125, 2.6125, 0.6125, 3.6125, 1.6125]])\n",
    "idx = indexes.long()\n",
    "idx, idx.shape"
   ]
  },
  {
   "cell_type": "code",
   "execution_count": 79,
   "metadata": {},
   "outputs": [
    {
     "data": {
      "text/plain": [
       "tensor([[0, 0],\n",
       "        [1, 1],\n",
       "        [2, 2],\n",
       "        [3, 3],\n",
       "        [4, 4]])"
      ]
     },
     "execution_count": 79,
     "metadata": {},
     "output_type": "execute_result"
    }
   ],
   "source": [
    "tgt_len = torch.tensor([[0,0],\n",
    "                        [1,1], \n",
    "                        [2,2],\n",
    "                        [3,3],\n",
    "                        [4,4]])\n",
    "tgt_len"
   ]
  },
  {
   "cell_type": "code",
   "execution_count": 78,
   "metadata": {},
   "outputs": [
    {
     "data": {
      "text/plain": [
       "tensor([[0, 4],\n",
       "        [1, 2],\n",
       "        [4, 0],\n",
       "        [2, 3],\n",
       "        [3, 1]])"
      ]
     },
     "execution_count": 78,
     "metadata": {},
     "output_type": "execute_result"
    }
   ],
   "source": [
    "for i in range(len(idx)):\n",
    "    tgt_len[:,i] = tgt_len[:,i][idx[i]]\n",
    "tgt_len"
   ]
  },
  {
   "cell_type": "code",
   "execution_count": 71,
   "metadata": {},
   "outputs": [
    {
     "data": {
      "text/plain": [
       "(torch.Size([2, 1]),\n",
       " tensor([[[False],\n",
       "          [False]],\n",
       " \n",
       "         [[False],\n",
       "          [False]],\n",
       " \n",
       "         [[False],\n",
       "          [False]],\n",
       " \n",
       "         [[False],\n",
       "          [False]],\n",
       " \n",
       "         [[False],\n",
       "          [False]]]))"
      ]
     },
     "execution_count": 71,
     "metadata": {},
     "output_type": "execute_result"
    }
   ],
   "source": [
    "tgt_padding_mask = torch.tensor([[False],\n",
    "                                 [False]])\n",
    "\n",
    "tgt_padding_mask.shape, tgt_padding_mask.unsqueeze(0).repeat((5,1,1))"
   ]
  },
  {
   "cell_type": "code",
   "execution_count": 4,
   "metadata": {},
   "outputs": [
    {
     "data": {
      "text/plain": [
       "tensor([[  1, 615],\n",
       "        [  1, 407],\n",
       "        [  1, 380],\n",
       "        [  1, 270],\n",
       "        [  1, 957]])"
      ]
     },
     "execution_count": 4,
     "metadata": {},
     "output_type": "execute_result"
    }
   ],
   "source": [
    "tgt = torch.tensor([[[  1,   1],\n",
    "                     [615, 615]],\n",
    "\n",
    "                    [[  1,   1],\n",
    "                     [407, 385]],\n",
    "\n",
    "                    [[  1,   1],\n",
    "                     [380, 572]],\n",
    "\n",
    "                    [[  1,   1],\n",
    "                     [270, 380]],\n",
    "\n",
    "                    [[  1,   1],\n",
    "                     [957, 784]]])\n",
    "\n",
    "bst_can = torch.tensor([[0, 1, 4, 2, 3],\n",
    "        [4, 2, 0, 3, 1]])\n",
    "\n",
    "# for i in range(len(bst_can)):\n",
    "#     tgt[:]\n",
    "\n",
    "# tgt[:,:,0] = tgt[:,:, 0][bst_can[0]]\n",
    "tgt[:,:, 0]\n",
    "# tgt"
   ]
  },
  {
   "attachments": {},
   "cell_type": "markdown",
   "metadata": {},
   "source": [
    "trial for bs = 1"
   ]
  },
  {
   "cell_type": "code",
   "execution_count": 23,
   "metadata": {},
   "outputs": [
    {
     "data": {
      "text/plain": [
       "False"
      ]
     },
     "execution_count": 23,
     "metadata": {},
     "output_type": "execute_result"
    }
   ],
   "source": [
    "idx = torch.tensor([[615, 380],\n",
    "                    [615, 784]])\n",
    "\n",
    "# idx.squeeze(-1) in beam[0][-1]\n",
    "torch.equal(idx.squeeze(-1).unsqueeze(0), beam[0][-1].unsqueeze(0))"
   ]
  },
  {
   "cell_type": "code",
   "execution_count": 139,
   "metadata": {},
   "outputs": [],
   "source": [
    "beam = torch.tensor([[[1,     1],  \n",
    "                      [385, 783]],\n",
    "                     [[1,     1],\n",
    "                      [572, 615]],\n",
    "                        ]\n",
    "                    )\n",
    "\n",
    "idx = torch.tensor([[615, 380],\n",
    "                    [615, 784]])\n",
    "# torch.tensor([b[-1] for b in beam])"
   ]
  },
  {
   "cell_type": "code",
   "execution_count": 56,
   "metadata": {},
   "outputs": [
    {
     "data": {
      "text/plain": [
       "(tensor([[385, 783],\n",
       "         [572, 615]]),\n",
       " tensor([[615, 615],\n",
       "         [380, 784]]))"
      ]
     },
     "execution_count": 56,
     "metadata": {},
     "output_type": "execute_result"
    }
   ],
   "source": [
    "beam[:, -1, :], idx.T"
   ]
  },
  {
   "cell_type": "code",
   "execution_count": 136,
   "metadata": {},
   "outputs": [
    {
     "data": {
      "text/plain": [
       "tensor([0, 2])"
      ]
     },
     "execution_count": 136,
     "metadata": {},
     "output_type": "execute_result"
    }
   ],
   "source": [
    "A = torch.tensor([[False, False, False, True],[True, True, False, False]])\n",
    "\n",
    "# Get the first occurrence of false in each row\n",
    "# result = A.nonzero()#[:,1]#.min(dim=1)\n",
    "\n",
    "# print(result)\n",
    "\n",
    "A.long().argmin(axis=1)"
   ]
  },
  {
   "cell_type": "code",
   "execution_count": 149,
   "metadata": {},
   "outputs": [
    {
     "data": {
      "text/plain": [
       "(tensor([0, 1]),\n",
       " tensor([[0, 0],\n",
       "         [1, 0]]))"
      ]
     },
     "execution_count": 149,
     "metadata": {},
     "output_type": "execute_result"
    }
   ],
   "source": [
    "A = torch.stack([(beam[:, -1, :] == idx.T[i]).any(dim=1) for i in range(idx.shape[0])], dim=1).long()\n",
    "argmin = A.argmin(1)\n",
    "argmin, A"
   ]
  },
  {
   "cell_type": "code",
   "execution_count": 152,
   "metadata": {},
   "outputs": [
    {
     "data": {
      "text/plain": [
       "tensor([[0, 0],\n",
       "        [1, 1]])"
      ]
     },
     "execution_count": 152,
     "metadata": {},
     "output_type": "execute_result"
    }
   ],
   "source": [
    "complete_index = torch.stack([torch.arange(A.shape[0]), argmin], dim=1)\n",
    "complete_index"
   ]
  },
  {
   "cell_type": "code",
   "execution_count": 111,
   "metadata": {},
   "outputs": [
    {
     "data": {
      "text/plain": [
       "tensor([[False, False],\n",
       "        [False, False]])"
      ]
     },
     "execution_count": 111,
     "metadata": {},
     "output_type": "execute_result"
    }
   ],
   "source": [
    "torch.eq(idx.T, beam[:, -1, :])"
   ]
  },
  {
   "cell_type": "code",
   "execution_count": 69,
   "metadata": {},
   "outputs": [
    {
     "name": "stdout",
     "output_type": "stream",
     "text": [
      "tensor([[1, 2],\n",
      "        [2, 4]])\n"
     ]
    }
   ],
   "source": [
    "A = torch.tensor([[1,2],[2,4]])\n",
    "B = torch.tensor([[2,2],[5,6]])\n",
    "\n",
    "# Create a boolean mask indicating if each row of A has a common element with each row of B\n",
    "mask = torch.stack([(A == B[i]).any(dim=1) for i in range(B.shape[0])], dim=1)\n",
    "\n",
    "# Get the indices of the rows in A that have a common element with each row of B\n",
    "indices = (mask.nonzero()[:,0]).unique()\n",
    "\n",
    "# Get the rows of A that have a common element with each row of B\n",
    "result = A[indices,:]\n",
    "\n",
    "print(result)\n"
   ]
  },
  {
   "attachments": {},
   "cell_type": "markdown",
   "metadata": {},
   "source": [
    "### Diverse Selection of tokens"
   ]
  },
  {
   "cell_type": "code",
   "execution_count": 26,
   "metadata": {},
   "outputs": [
    {
     "data": {
      "text/plain": [
       "[tensor([True, True]), tensor([False, False])]"
      ]
     },
     "execution_count": 26,
     "metadata": {},
     "output_type": "execute_result"
    }
   ],
   "source": [
    "A = torch.tensor([[615, 615]])\n",
    "B = torch.tensor([[615, 934],\n",
    "                  [615, 572]])\n",
    "\n",
    "[(A == B.T[i]).any(dim=0) for i in range(B.T.shape[0])]"
   ]
  },
  {
   "cell_type": "code",
   "execution_count": 30,
   "metadata": {},
   "outputs": [
    {
     "data": {
      "text/plain": [
       "tensor([[1, 0],\n",
       "        [1, 0]])"
      ]
     },
     "execution_count": 30,
     "metadata": {},
     "output_type": "execute_result"
    }
   ],
   "source": [
    "# [(A == B[i]).any(dim=1) for i in range(B.shape[0])]\n",
    "A = torch.stack([(A == B.T[i]).any(dim=0) for i in range(B.T.shape[0])], dim=1).long()\n",
    "A"
   ]
  },
  {
   "cell_type": "code",
   "execution_count": 32,
   "metadata": {},
   "outputs": [
    {
     "data": {
      "text/plain": [
       "tensor([1, 1])"
      ]
     },
     "execution_count": 32,
     "metadata": {},
     "output_type": "execute_result"
    }
   ],
   "source": [
    "argmin = A.argmin(1)\n",
    "argmin"
   ]
  },
  {
   "cell_type": "code",
   "execution_count": 38,
   "metadata": {},
   "outputs": [
    {
     "data": {
      "text/plain": [
       "(tensor([0, 1]), tensor([1, 1]))"
      ]
     },
     "execution_count": 38,
     "metadata": {},
     "output_type": "execute_result"
    }
   ],
   "source": [
    "torch.arange(A.shape[0]), argmin"
   ]
  },
  {
   "cell_type": "code",
   "execution_count": 46,
   "metadata": {},
   "outputs": [
    {
     "data": {
      "text/plain": [
       "tensor([[0, 1],\n",
       "        [1, 1]])"
      ]
     },
     "execution_count": 46,
     "metadata": {},
     "output_type": "execute_result"
    }
   ],
   "source": [
    "complete_index = torch.stack([torch.arange(A.shape[0]), argmin], dim=1)\n",
    "complete_index"
   ]
  },
  {
   "cell_type": "code",
   "execution_count": 28,
   "metadata": {},
   "outputs": [
    {
     "data": {
      "text/plain": [
       "tensor([[ True,  True],\n",
       "        [False,  True]])"
      ]
     },
     "execution_count": 28,
     "metadata": {},
     "output_type": "execute_result"
    }
   ],
   "source": [
    "a = torch.tensor([[1, 2], [5, 4]])\n",
    "b = torch.tensor([[1, 2], [3, 4]])\n",
    "\n",
    "torch.eq(a, b)"
   ]
  },
  {
   "cell_type": "code",
   "execution_count": 29,
   "metadata": {},
   "outputs": [
    {
     "data": {
      "text/plain": [
       "tensor([[ True, False]])"
      ]
     },
     "execution_count": 29,
     "metadata": {},
     "output_type": "execute_result"
    }
   ],
   "source": [
    "torch.eq(beam[0][-1].unsqueeze(0), idx.squeeze(-1).unsqueeze(0))"
   ]
  },
  {
   "cell_type": "code",
   "execution_count": 15,
   "metadata": {},
   "outputs": [
    {
     "data": {
      "text/plain": [
       "tensor([615., 615.])"
      ]
     },
     "execution_count": 15,
     "metadata": {},
     "output_type": "execute_result"
    }
   ],
   "source": [
    "a = torch.tensor([[615],\n",
    "                  [615]])\n",
    "\n",
    "b = torch.tensor([[  1,   1],\n",
    "                  [615, 615]])\n",
    "\n",
    "# torch.cat((a,b))\n",
    "temp = torch.tensor([])\n",
    "\n",
    "torch.cat((temp, a.squeeze()), axis=0)"
   ]
  },
  {
   "cell_type": "code",
   "execution_count": 19,
   "metadata": {},
   "outputs": [
    {
     "data": {
      "text/plain": [
       "tensor([[615, 615],\n",
       "        [615, 615]])"
      ]
     },
     "execution_count": 19,
     "metadata": {},
     "output_type": "execute_result"
    }
   ],
   "source": [
    "torch.cat((a.squeeze(1).unsqueeze(0), a.squeeze(1).unsqueeze(0)))"
   ]
  },
  {
   "cell_type": "code",
   "execution_count": 8,
   "metadata": {},
   "outputs": [
    {
     "data": {
      "text/plain": [
       "tensor([[  1,   1],\n",
       "        [615, 615],\n",
       "        [615, 615]])"
      ]
     },
     "execution_count": 8,
     "metadata": {},
     "output_type": "execute_result"
    }
   ],
   "source": [
    "torch.cat((b, a.squeeze(1).unsqueeze(0)), axis=0)"
   ]
  }
 ],
 "metadata": {
  "kernelspec": {
   "display_name": "Python 3",
   "language": "python",
   "name": "python3"
  },
  "language_info": {
   "codemirror_mode": {
    "name": "ipython",
    "version": 3
   },
   "file_extension": ".py",
   "mimetype": "text/x-python",
   "name": "python",
   "nbconvert_exporter": "python",
   "pygments_lexer": "ipython3",
   "version": "3.10.9"
  },
  "orig_nbformat": 4,
  "vscode": {
   "interpreter": {
    "hash": "5d2829036e2bc88c939bf26174c1338eed948a5b3088bd14378c54b2fc44eaba"
   }
  }
 },
 "nbformat": 4,
 "nbformat_minor": 2
}
