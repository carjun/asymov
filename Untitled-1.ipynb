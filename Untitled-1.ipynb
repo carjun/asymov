{
 "cells": [
  {
   "cell_type": "code",
   "execution_count": 5,
   "metadata": {},
   "outputs": [],
   "source": [
    "import torch"
   ]
  },
  {
   "cell_type": "code",
   "execution_count": 23,
   "metadata": {},
   "outputs": [],
   "source": [
    "a = torch.tensor([[-0.8838,  0.0652, -0.3634],\n",
    "             [-1.1894, -0.0717, -0.0899]])\n",
    "b = torch.tensor([[-0.8838,  0.0652, -0.3634],\n",
    "             [-1.1894, -0.0717, -0.0899]])"
   ]
  },
  {
   "cell_type": "code",
   "execution_count": 26,
   "metadata": {},
   "outputs": [
    {
     "data": {
      "text/plain": [
       "torch.Size([2, 3])"
      ]
     },
     "execution_count": 26,
     "metadata": {},
     "output_type": "execute_result"
    }
   ],
   "source": [
    "a.shape"
   ]
  },
  {
   "cell_type": "code",
   "execution_count": 29,
   "metadata": {},
   "outputs": [
    {
     "data": {
      "text/plain": [
       "tensor([[-0.8838,  0.0652, -0.3634],\n",
       "        [-1.1894, -0.0717, -0.0899],\n",
       "        [ 0.0000,  0.0000,  0.0000]])"
      ]
     },
     "execution_count": 29,
     "metadata": {},
     "output_type": "execute_result"
    }
   ],
   "source": [
    "torch.cat((a,torch.tensor([0, 0, 0]).unsqueeze(0)), 0)"
   ]
  },
  {
   "cell_type": "code",
   "execution_count": 14,
   "metadata": {},
   "outputs": [],
   "source": [
    "c = torch.tensor([])"
   ]
  },
  {
   "cell_type": "code",
   "execution_count": 16,
   "metadata": {},
   "outputs": [],
   "source": [
    "c = torch.cat((a,c), -1)"
   ]
  },
  {
   "cell_type": "code",
   "execution_count": 4,
   "metadata": {},
   "outputs": [
    {
     "data": {
      "text/plain": [
       "tensor([False,  True, False,  True,  True])"
      ]
     },
     "execution_count": 4,
     "metadata": {},
     "output_type": "execute_result"
    }
   ],
   "source": [
    "torch.tensor([1,0,1,0,0]) == 0"
   ]
  },
  {
   "cell_type": "code",
   "execution_count": 6,
   "metadata": {},
   "outputs": [],
   "source": [
    "t = torch.tensor([[-1.1773,  0.3129, -0.4569, -0.6201,  0.8288, -0.6680],\n",
    "        [-1.4264,  0.1560, -0.3141, -0.4562,  0.5652, -0.3873]])\n",
    "c = torch.tensor([])\n",
    "\n",
    "c = torch.cat((c,t), -1)\n"
   ]
  },
  {
   "cell_type": "code",
   "execution_count": 12,
   "metadata": {},
   "outputs": [
    {
     "data": {
      "text/plain": [
       "tensor([[-1.1773,  0.3129, -0.4569],\n",
       "        [-0.6201,  0.8288, -0.6680],\n",
       "        [-1.4264,  0.1560, -0.3141],\n",
       "        [-0.4562,  0.5652, -0.3873]])"
      ]
     },
     "execution_count": 12,
     "metadata": {},
     "output_type": "execute_result"
    }
   ],
   "source": [
    "t.reshape(4,-1)"
   ]
  },
  {
   "cell_type": "code",
   "execution_count": 11,
   "metadata": {},
   "outputs": [
    {
     "data": {
      "text/plain": [
       "tensor([[ True,  True,  True],\n",
       "        [ True, False,  True],\n",
       "        [ True,  True,  True],\n",
       "        [ True, False,  True]])"
      ]
     },
     "execution_count": 11,
     "metadata": {},
     "output_type": "execute_result"
    }
   ],
   "source": [
    "t.reshape(4,-1) <= 0.5"
   ]
  },
  {
   "cell_type": "code",
   "execution_count": null,
   "metadata": {},
   "outputs": [],
   "source": [
    "next = torch.tensor([[],\n",
    "                     []])"
   ]
  },
  {
   "cell_type": "code",
   "execution_count": null,
   "metadata": {},
   "outputs": [],
   "source": [
    "torch.cat((tgt.unsqueeze(-2),next_chars.transpose(1,0).unsqueeze(-2)), -2)"
   ]
  },
  {
   "cell_type": "code",
   "execution_count": 36,
   "metadata": {},
   "outputs": [
    {
     "data": {
      "text/plain": [
       "(tensor([[0, 1, 4, 2, 3],\n",
       "         [4, 2, 0, 3, 1]]),\n",
       " torch.Size([2, 5]))"
      ]
     },
     "execution_count": 36,
     "metadata": {},
     "output_type": "execute_result"
    }
   ],
   "source": [
    "indexes = torch.tensor([[0.6125, 1.6125, 4.6125, 2.6125, 3.6125],\n",
    "        [4.6125, 2.6125, 0.6125, 3.6125, 1.6125]])\n",
    "idx = indexes.long()\n",
    "idx, idx.shape"
   ]
  },
  {
   "cell_type": "code",
   "execution_count": 79,
   "metadata": {},
   "outputs": [
    {
     "data": {
      "text/plain": [
       "tensor([[0, 0],\n",
       "        [1, 1],\n",
       "        [2, 2],\n",
       "        [3, 3],\n",
       "        [4, 4]])"
      ]
     },
     "execution_count": 79,
     "metadata": {},
     "output_type": "execute_result"
    }
   ],
   "source": [
    "tgt_len = torch.tensor([[0,0],\n",
    "                        [1,1], \n",
    "                        [2,2],\n",
    "                        [3,3],\n",
    "                        [4,4]])\n",
    "tgt_len"
   ]
  },
  {
   "cell_type": "code",
   "execution_count": 78,
   "metadata": {},
   "outputs": [
    {
     "data": {
      "text/plain": [
       "tensor([[0, 4],\n",
       "        [1, 2],\n",
       "        [4, 0],\n",
       "        [2, 3],\n",
       "        [3, 1]])"
      ]
     },
     "execution_count": 78,
     "metadata": {},
     "output_type": "execute_result"
    }
   ],
   "source": [
    "for i in range(len(idx)):\n",
    "    tgt_len[:,i] = tgt_len[:,i][idx[i]]\n",
    "tgt_len"
   ]
  },
  {
   "cell_type": "code",
   "execution_count": 71,
   "metadata": {},
   "outputs": [
    {
     "data": {
      "text/plain": [
       "(torch.Size([2, 1]),\n",
       " tensor([[[False],\n",
       "          [False]],\n",
       " \n",
       "         [[False],\n",
       "          [False]],\n",
       " \n",
       "         [[False],\n",
       "          [False]],\n",
       " \n",
       "         [[False],\n",
       "          [False]],\n",
       " \n",
       "         [[False],\n",
       "          [False]]]))"
      ]
     },
     "execution_count": 71,
     "metadata": {},
     "output_type": "execute_result"
    }
   ],
   "source": [
    "tgt_padding_mask = torch.tensor([[False],\n",
    "                                 [False]])\n",
    "\n",
    "tgt_padding_mask.shape, tgt_padding_mask.unsqueeze(0).repeat((5,1,1))"
   ]
  },
  {
   "cell_type": "code",
   "execution_count": 114,
   "metadata": {},
   "outputs": [
    {
     "data": {
      "text/plain": [
       "tensor([[  1, 615],\n",
       "        [  1, 407],\n",
       "        [  1, 957],\n",
       "        [  1, 380],\n",
       "        [  1, 270]])"
      ]
     },
     "execution_count": 114,
     "metadata": {},
     "output_type": "execute_result"
    }
   ],
   "source": [
    "tgt = torch.tensor([[[  1,   1],\n",
    "                     [615, 615]],\n",
    "\n",
    "                    [[  1,   1],\n",
    "                     [407, 385]],\n",
    "\n",
    "                    [[  1,   1],\n",
    "                     [380, 572]],\n",
    "\n",
    "                    [[  1,   1],\n",
    "                     [270, 380]],\n",
    "\n",
    "                    [[  1,   1],\n",
    "                     [957, 784]]])\n",
    "\n",
    "bst_can = torch.tensor([[0, 1, 4, 2, 3],\n",
    "        [4, 2, 0, 3, 1]])\n",
    "\n",
    "# for i in range(len(bst_can)):\n",
    "#     tgt[:]\n",
    "\n",
    "# tgt[:,:,0] = tgt[:,:, 0][bst_can[0]]\n",
    "tgt[:,:, 0][bst_can[0]]\n",
    "# tgt"
   ]
  },
  {
   "cell_type": "code",
   "execution_count": 92,
   "metadata": {},
   "outputs": [
    {
     "data": {
      "text/plain": [
       "(tensor([[[  1,   1],\n",
       "          [615, 615]],\n",
       " \n",
       "         [[  1,   1],\n",
       "          [407, 385]],\n",
       " \n",
       "         [[  1,   1],\n",
       "          [957, 784]],\n",
       " \n",
       "         [[  1,   1],\n",
       "          [380, 572]],\n",
       " \n",
       "         [[  1,   1],\n",
       "          [270, 380]]]),\n",
       " torch.Size([5, 2, 2]))"
      ]
     },
     "execution_count": 92,
     "metadata": {},
     "output_type": "execute_result"
    }
   ],
   "source": [
    "tgt[0], tgt[0].shape"
   ]
  },
  {
   "cell_type": "code",
   "execution_count": null,
   "metadata": {},
   "outputs": [],
   "source": []
  }
 ],
 "metadata": {
  "interpreter": {
   "hash": "9165fd12745e083535b08878e3c5e640d616319410819305220573a957c347a3"
  },
  "kernelspec": {
   "display_name": "Python 3.9.6 64-bit",
   "language": "python",
   "name": "python3"
  },
  "language_info": {
   "codemirror_mode": {
    "name": "ipython",
    "version": 3
   },
   "file_extension": ".py",
   "mimetype": "text/x-python",
   "name": "python",
   "nbconvert_exporter": "python",
   "pygments_lexer": "ipython3",
   "version": "3.8.8"
  },
  "orig_nbformat": 4
 },
 "nbformat": 4,
 "nbformat_minor": 2
}
