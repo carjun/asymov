{
 "cells": [
  {
   "cell_type": "code",
   "execution_count": 2,
   "metadata": {},
   "outputs": [],
   "source": [
    "import torch\n",
    "import pdb"
   ]
  },
  {
   "cell_type": "code",
   "execution_count": 59,
   "metadata": {},
   "outputs": [],
   "source": [
    "a = torch.tensor([[-0.8838,  0.0652, -0.3634],\n",
    "             [-1.1894, -0.0717, -0.0899]])\n",
    "b = torch.tensor([[-0.8838,  0.0652, -0.3634],\n",
    "             [-1.1894, -0.0717, -0.0899]])"
   ]
  },
  {
   "cell_type": "code",
   "execution_count": 60,
   "metadata": {},
   "outputs": [
    {
     "data": {
      "text/plain": [
       "torch.Size([2, 3])"
      ]
     },
     "execution_count": 60,
     "metadata": {},
     "output_type": "execute_result"
    }
   ],
   "source": [
    "a.shape"
   ]
  },
  {
   "cell_type": "code",
   "execution_count": 61,
   "metadata": {},
   "outputs": [
    {
     "data": {
      "text/plain": [
       "tensor([[-0.8838,  0.0652, -0.3634],\n",
       "        [-1.1894, -0.0717, -0.0899],\n",
       "        [ 0.0000,  0.0000,  0.0000]])"
      ]
     },
     "execution_count": 61,
     "metadata": {},
     "output_type": "execute_result"
    }
   ],
   "source": [
    "torch.cat((a,torch.tensor([0, 0, 0]).unsqueeze(0)), 0)"
   ]
  },
  {
   "cell_type": "code",
   "execution_count": 62,
   "metadata": {},
   "outputs": [],
   "source": [
    "c = torch.tensor([])"
   ]
  },
  {
   "cell_type": "code",
   "execution_count": 63,
   "metadata": {},
   "outputs": [],
   "source": [
    "c = torch.cat((a,c), -1)"
   ]
  },
  {
   "cell_type": "code",
   "execution_count": 64,
   "metadata": {},
   "outputs": [
    {
     "data": {
      "text/plain": [
       "tensor([False,  True, False,  True,  True])"
      ]
     },
     "execution_count": 64,
     "metadata": {},
     "output_type": "execute_result"
    }
   ],
   "source": [
    "torch.tensor([1,0,1,0,0]) == 0"
   ]
  },
  {
   "cell_type": "code",
   "execution_count": 65,
   "metadata": {},
   "outputs": [],
   "source": [
    "t = torch.tensor([[-1.1773,  0.3129, -0.4569, -0.6201,  0.8288, -0.6680],\n",
    "        [-1.4264,  0.1560, -0.3141, -0.4562,  0.5652, -0.3873]])\n",
    "c = torch.tensor([])\n",
    "\n",
    "c = torch.cat((c,t), -1)\n"
   ]
  },
  {
   "cell_type": "code",
   "execution_count": 66,
   "metadata": {},
   "outputs": [
    {
     "data": {
      "text/plain": [
       "tensor([[-1.1773,  0.3129, -0.4569],\n",
       "        [-0.6201,  0.8288, -0.6680],\n",
       "        [-1.4264,  0.1560, -0.3141],\n",
       "        [-0.4562,  0.5652, -0.3873]])"
      ]
     },
     "execution_count": 66,
     "metadata": {},
     "output_type": "execute_result"
    }
   ],
   "source": [
    "t.reshape(4,-1)"
   ]
  },
  {
   "cell_type": "code",
   "execution_count": 67,
   "metadata": {},
   "outputs": [
    {
     "data": {
      "text/plain": [
       "tensor([[ True,  True,  True],\n",
       "        [ True, False,  True],\n",
       "        [ True,  True,  True],\n",
       "        [ True, False,  True]])"
      ]
     },
     "execution_count": 67,
     "metadata": {},
     "output_type": "execute_result"
    }
   ],
   "source": [
    "t.reshape(4,-1) <= 0.5"
   ]
  },
  {
   "cell_type": "code",
   "execution_count": 68,
   "metadata": {},
   "outputs": [],
   "source": [
    "next = torch.tensor([[],\n",
    "                     []])"
   ]
  },
  {
   "cell_type": "code",
   "execution_count": 69,
   "metadata": {},
   "outputs": [
    {
     "ename": "NameError",
     "evalue": "name 'tgt' is not defined",
     "output_type": "error",
     "traceback": [
      "\u001b[1;31m---------------------------------------------------------------------------\u001b[0m",
      "\u001b[1;31mNameError\u001b[0m                                 Traceback (most recent call last)",
      "Cell \u001b[1;32mIn[69], line 1\u001b[0m\n\u001b[1;32m----> 1\u001b[0m torch\u001b[39m.\u001b[39mcat((tgt\u001b[39m.\u001b[39munsqueeze(\u001b[39m-\u001b[39m\u001b[39m2\u001b[39m),next_chars\u001b[39m.\u001b[39mtranspose(\u001b[39m1\u001b[39m,\u001b[39m0\u001b[39m)\u001b[39m.\u001b[39munsqueeze(\u001b[39m-\u001b[39m\u001b[39m2\u001b[39m)), \u001b[39m-\u001b[39m\u001b[39m2\u001b[39m)\n",
      "\u001b[1;31mNameError\u001b[0m: name 'tgt' is not defined"
     ]
    }
   ],
   "source": [
    "torch.cat((tgt.unsqueeze(-2),next_chars.transpose(1,0).unsqueeze(-2)), -2)"
   ]
  },
  {
   "cell_type": "code",
   "execution_count": null,
   "metadata": {},
   "outputs": [
    {
     "data": {
      "text/plain": [
       "(tensor([[0, 1, 4, 2, 3],\n",
       "         [4, 2, 0, 3, 1]]),\n",
       " torch.Size([2, 5]))"
      ]
     },
     "execution_count": 36,
     "metadata": {},
     "output_type": "execute_result"
    }
   ],
   "source": [
    "indexes = torch.tensor([[0.6125, 1.6125, 4.6125, 2.6125, 3.6125],\n",
    "        [4.6125, 2.6125, 0.6125, 3.6125, 1.6125]])\n",
    "idx = indexes.long()\n",
    "idx, idx.shape"
   ]
  },
  {
   "cell_type": "code",
   "execution_count": null,
   "metadata": {},
   "outputs": [
    {
     "data": {
      "text/plain": [
       "tensor([[0, 0],\n",
       "        [1, 1],\n",
       "        [2, 2],\n",
       "        [3, 3],\n",
       "        [4, 4]])"
      ]
     },
     "execution_count": 79,
     "metadata": {},
     "output_type": "execute_result"
    }
   ],
   "source": [
    "tgt_len = torch.tensor([[0,0],\n",
    "                        [1,1], \n",
    "                        [2,2],\n",
    "                        [3,3],\n",
    "                        [4,4]])\n",
    "tgt_len"
   ]
  },
  {
   "cell_type": "code",
   "execution_count": null,
   "metadata": {},
   "outputs": [
    {
     "data": {
      "text/plain": [
       "tensor([[0, 4],\n",
       "        [1, 2],\n",
       "        [4, 0],\n",
       "        [2, 3],\n",
       "        [3, 1]])"
      ]
     },
     "execution_count": 78,
     "metadata": {},
     "output_type": "execute_result"
    }
   ],
   "source": [
    "for i in range(len(idx)):\n",
    "    tgt_len[:,i] = tgt_len[:,i][idx[i]]\n",
    "tgt_len"
   ]
  },
  {
   "cell_type": "code",
   "execution_count": null,
   "metadata": {},
   "outputs": [
    {
     "data": {
      "text/plain": [
       "(torch.Size([2, 1]),\n",
       " tensor([[[False],\n",
       "          [False]],\n",
       " \n",
       "         [[False],\n",
       "          [False]],\n",
       " \n",
       "         [[False],\n",
       "          [False]],\n",
       " \n",
       "         [[False],\n",
       "          [False]],\n",
       " \n",
       "         [[False],\n",
       "          [False]]]))"
      ]
     },
     "execution_count": 71,
     "metadata": {},
     "output_type": "execute_result"
    }
   ],
   "source": [
    "tgt_padding_mask = torch.tensor([[False],\n",
    "                                 [False]])\n",
    "\n",
    "tgt_padding_mask.shape, tgt_padding_mask.unsqueeze(0).repeat((5,1,1))"
   ]
  },
  {
   "cell_type": "code",
   "execution_count": null,
   "metadata": {},
   "outputs": [
    {
     "data": {
      "text/plain": [
       "tensor([[  1, 615],\n",
       "        [  1, 407],\n",
       "        [  1, 380],\n",
       "        [  1, 270],\n",
       "        [  1, 957]])"
      ]
     },
     "execution_count": 4,
     "metadata": {},
     "output_type": "execute_result"
    }
   ],
   "source": [
    "tgt = torch.tensor([[[  1,   1],\n",
    "                     [615, 615]],\n",
    "\n",
    "                    [[  1,   1],\n",
    "                     [407, 385]],\n",
    "\n",
    "                    [[  1,   1],\n",
    "                     [380, 572]],\n",
    "\n",
    "                    [[  1,   1],\n",
    "                     [270, 380]],\n",
    "\n",
    "                    [[  1,   1],\n",
    "                     [957, 784]]])\n",
    "\n",
    "bst_can = torch.tensor([[0, 1, 4, 2, 3],\n",
    "        [4, 2, 0, 3, 1]])\n",
    "\n",
    "# for i in range(len(bst_can)):\n",
    "#     tgt[:]\n",
    "\n",
    "# tgt[:,:,0] = tgt[:,:, 0][bst_can[0]]\n",
    "tgt[:,:, 0]\n",
    "# tgt"
   ]
  },
  {
   "attachments": {},
   "cell_type": "markdown",
   "metadata": {},
   "source": [
    "trial for bs = 1"
   ]
  },
  {
   "cell_type": "code",
   "execution_count": null,
   "metadata": {},
   "outputs": [
    {
     "data": {
      "text/plain": [
       "False"
      ]
     },
     "execution_count": 23,
     "metadata": {},
     "output_type": "execute_result"
    }
   ],
   "source": [
    "idx = torch.tensor([[615, 380],\n",
    "                    [615, 784]])\n",
    "\n",
    "# idx.squeeze(-1) in beam[0][-1]\n",
    "torch.equal(idx.squeeze(-1).unsqueeze(0), beam[0][-1].unsqueeze(0))"
   ]
  },
  {
   "cell_type": "code",
   "execution_count": null,
   "metadata": {},
   "outputs": [],
   "source": [
    "beam = torch.tensor([[[1,     1],  \n",
    "                      [385, 783]],\n",
    "                     [[1,     1],\n",
    "                      [572, 615]],\n",
    "                        ]\n",
    "                    )\n",
    "\n",
    "idx = torch.tensor([[615, 380],\n",
    "                    [615, 784]])\n",
    "# torch.tensor([b[-1] for b in beam])"
   ]
  },
  {
   "cell_type": "code",
   "execution_count": null,
   "metadata": {},
   "outputs": [
    {
     "data": {
      "text/plain": [
       "(tensor([[385, 783],\n",
       "         [572, 615]]),\n",
       " tensor([[615, 615],\n",
       "         [380, 784]]))"
      ]
     },
     "execution_count": 56,
     "metadata": {},
     "output_type": "execute_result"
    }
   ],
   "source": [
    "beam[:, -1, :], idx.T"
   ]
  },
  {
   "cell_type": "code",
   "execution_count": null,
   "metadata": {},
   "outputs": [
    {
     "data": {
      "text/plain": [
       "tensor([0, 2])"
      ]
     },
     "execution_count": 136,
     "metadata": {},
     "output_type": "execute_result"
    }
   ],
   "source": [
    "A = torch.tensor([[False, False, False, True],[True, True, False, False]])\n",
    "\n",
    "# Get the first occurrence of false in each row\n",
    "# result = A.nonzero()#[:,1]#.min(dim=1)\n",
    "\n",
    "# print(result)\n",
    "\n",
    "A.long().argmin(axis=1)"
   ]
  },
  {
   "cell_type": "code",
   "execution_count": null,
   "metadata": {},
   "outputs": [
    {
     "data": {
      "text/plain": [
       "(tensor([0, 1]),\n",
       " tensor([[0, 0],\n",
       "         [1, 0]]))"
      ]
     },
     "execution_count": 149,
     "metadata": {},
     "output_type": "execute_result"
    }
   ],
   "source": [
    "A = torch.stack([(beam[:, -1, :] == idx.T[i]).any(dim=1) for i in range(idx.shape[0])], dim=1).long()\n",
    "argmin = A.argmin(1)\n",
    "argmin, A"
   ]
  },
  {
   "cell_type": "code",
   "execution_count": null,
   "metadata": {},
   "outputs": [
    {
     "data": {
      "text/plain": [
       "tensor([[0, 0],\n",
       "        [1, 1]])"
      ]
     },
     "execution_count": 152,
     "metadata": {},
     "output_type": "execute_result"
    }
   ],
   "source": [
    "complete_index = torch.stack([torch.arange(A.shape[0]), argmin], dim=1)\n",
    "complete_index"
   ]
  },
  {
   "cell_type": "code",
   "execution_count": null,
   "metadata": {},
   "outputs": [
    {
     "data": {
      "text/plain": [
       "tensor([[False, False],\n",
       "        [False, False]])"
      ]
     },
     "execution_count": 111,
     "metadata": {},
     "output_type": "execute_result"
    }
   ],
   "source": [
    "torch.eq(idx.T, beam[:, -1, :])"
   ]
  },
  {
   "cell_type": "code",
   "execution_count": null,
   "metadata": {},
   "outputs": [
    {
     "name": "stdout",
     "output_type": "stream",
     "text": [
      "tensor([[1, 2],\n",
      "        [2, 4]])\n"
     ]
    }
   ],
   "source": [
    "A = torch.tensor([[1,2],[2,4]])\n",
    "B = torch.tensor([[2,2],[5,6]])\n",
    "\n",
    "# Create a boolean mask indicating if each row of A has a common element with each row of B\n",
    "mask = torch.stack([(A == B[i]).any(dim=1) for i in range(B.shape[0])], dim=1)\n",
    "\n",
    "# Get the indices of the rows in A that have a common element with each row of B\n",
    "indices = (mask.nonzero()[:,0]).unique()\n",
    "\n",
    "# Get the rows of A that have a common element with each row of B\n",
    "result = A[indices,:]\n",
    "\n",
    "print(result)\n"
   ]
  },
  {
   "attachments": {},
   "cell_type": "markdown",
   "metadata": {},
   "source": [
    "### Diverse Selection of tokens"
   ]
  },
  {
   "cell_type": "code",
   "execution_count": 25,
   "metadata": {},
   "outputs": [
    {
     "data": {
      "text/plain": [
       "[tensor([True, True]), tensor([False, False])]"
      ]
     },
     "execution_count": 25,
     "metadata": {},
     "output_type": "execute_result"
    }
   ],
   "source": [
    "A = torch.tensor([[615, 615]])\n",
    "B = torch.tensor([[615, 934],\n",
    "                  [615, 572]])\n",
    "\n",
    "[(A == B.T[i]).any(dim=0) for i in range(B.T.shape[0])]"
   ]
  },
  {
   "cell_type": "code",
   "execution_count": 31,
   "metadata": {},
   "outputs": [
    {
     "data": {
      "text/plain": [
       "tensor([True, True])"
      ]
     },
     "execution_count": 31,
     "metadata": {},
     "output_type": "execute_result"
    }
   ],
   "source": [
    "(A == B.T[0]).a(dim=0)"
   ]
  },
  {
   "cell_type": "code",
   "execution_count": 87,
   "metadata": {},
   "outputs": [
    {
     "data": {
      "text/plain": [
       "tensor([[1, 0],\n",
       "        [1, 0]])"
      ]
     },
     "execution_count": 87,
     "metadata": {},
     "output_type": "execute_result"
    }
   ],
   "source": [
    "# [(A == B[i]).any(dim=1) for i in range(B.shape[0])]\n",
    "A = torch.stack([(A == B.T[i]).any(dim=0) for i in range(B.T.shape[0])], dim=1).long()\n",
    "A"
   ]
  },
  {
   "cell_type": "code",
   "execution_count": 79,
   "metadata": {},
   "outputs": [
    {
     "data": {
      "text/plain": [
       "tensor([1, 1])"
      ]
     },
     "execution_count": 79,
     "metadata": {},
     "output_type": "execute_result"
    }
   ],
   "source": [
    "argmin = A.argmin(1)\n",
    "argmin"
   ]
  },
  {
   "cell_type": "code",
   "execution_count": 38,
   "metadata": {},
   "outputs": [
    {
     "data": {
      "text/plain": [
       "(tensor([0, 1]), tensor([1, 1]))"
      ]
     },
     "execution_count": 38,
     "metadata": {},
     "output_type": "execute_result"
    }
   ],
   "source": [
    "torch.arange(A.shape[0]), argmin"
   ]
  },
  {
   "cell_type": "code",
   "execution_count": 80,
   "metadata": {},
   "outputs": [
    {
     "data": {
      "text/plain": [
       "tensor([[0, 1],\n",
       "        [1, 1]])"
      ]
     },
     "execution_count": 80,
     "metadata": {},
     "output_type": "execute_result"
    }
   ],
   "source": [
    "complete_index = torch.stack([torch.arange(A.shape[0]), argmin], dim=1)\n",
    "complete_index"
   ]
  },
  {
   "cell_type": "code",
   "execution_count": 28,
   "metadata": {},
   "outputs": [
    {
     "data": {
      "text/plain": [
       "tensor([[ True,  True],\n",
       "        [False,  True]])"
      ]
     },
     "execution_count": 28,
     "metadata": {},
     "output_type": "execute_result"
    }
   ],
   "source": [
    "a = torch.tensor([[1, 2], [5, 4]])\n",
    "b = torch.tensor([[1, 2], [3, 4]])\n",
    "\n",
    "torch.eq(a, b)"
   ]
  },
  {
   "cell_type": "code",
   "execution_count": 29,
   "metadata": {},
   "outputs": [
    {
     "data": {
      "text/plain": [
       "tensor([[ True, False]])"
      ]
     },
     "execution_count": 29,
     "metadata": {},
     "output_type": "execute_result"
    }
   ],
   "source": [
    "torch.eq(beam[0][-1].unsqueeze(0), idx.squeeze(-1).unsqueeze(0))"
   ]
  },
  {
   "cell_type": "code",
   "execution_count": 15,
   "metadata": {},
   "outputs": [
    {
     "data": {
      "text/plain": [
       "tensor([615., 615.])"
      ]
     },
     "execution_count": 15,
     "metadata": {},
     "output_type": "execute_result"
    }
   ],
   "source": [
    "a = torch.tensor([[615],\n",
    "                  [615]])\n",
    "\n",
    "b = torch.tensor([[  1,   1],\n",
    "                  [615, 615]])\n",
    "\n",
    "# torch.cat((a,b))\n",
    "temp = torch.tensor([])\n",
    "\n",
    "torch.cat((temp, a.squeeze()), axis=0)"
   ]
  },
  {
   "cell_type": "code",
   "execution_count": 19,
   "metadata": {},
   "outputs": [
    {
     "data": {
      "text/plain": [
       "tensor([[615, 615],\n",
       "        [615, 615]])"
      ]
     },
     "execution_count": 19,
     "metadata": {},
     "output_type": "execute_result"
    }
   ],
   "source": [
    "torch.cat((a.squeeze(1).unsqueeze(0), a.squeeze(1).unsqueeze(0)))"
   ]
  },
  {
   "cell_type": "code",
   "execution_count": 8,
   "metadata": {},
   "outputs": [
    {
     "data": {
      "text/plain": [
       "tensor([[  1,   1],\n",
       "        [615, 615],\n",
       "        [615, 615]])"
      ]
     },
     "execution_count": 8,
     "metadata": {},
     "output_type": "execute_result"
    }
   ],
   "source": [
    "torch.cat((b, a.squeeze(1).unsqueeze(0)), axis=0)"
   ]
  },
  {
   "attachments": {},
   "cell_type": "markdown",
   "metadata": {},
   "source": [
    "#### beam as batch"
   ]
  },
  {
   "cell_type": "code",
   "execution_count": 25,
   "metadata": {},
   "outputs": [],
   "source": [
    "import torch\n",
    "a = torch.tensor([[615, 380, 211, 934, 407],\n",
    "                [615, 934, 407, 270, 380],\n",
    "                [615, 380, 934, 407, 270],\n",
    "                [615, 934, 407, 270, 957],\n",
    "                [615, 380, 270, 407, 777],\n",
    "                [615, 784, 572, 385, 380],\n",
    "                [615, 572, 385, 288, 784],\n",
    "                [615, 784, 784, 385, 288],\n",
    "                [615, 380, 572, 385, 784],\n",
    "                [615, 784, 572, 385, 589]])\n",
    "\n",
    "bol = torch.zeros(a.shape, dtype=torch.bool)\n",
    "bol[:2, 0] = True\n",
    "\n",
    "# for i in range(2, a.shape[0], 2):\n",
    "#     print(i)\n",
    "#     mask_num = (a[i:i+2][:, None] == a[bol].reshape(-1,2).T.unsqueeze(-1)).any(dim=1).long()\n",
    "#     unique_token_idx = torch.argmin(mask_num, axis=1)\n",
    "#     # pdb.set_trace()\n",
    "#     bol[torch.arange(i,i+2), unique_token_idx] = True\n",
    "    \n",
    "       "
   ]
  },
  {
   "cell_type": "code",
   "execution_count": 32,
   "metadata": {},
   "outputs": [
    {
     "data": {
      "text/plain": [
       "tensor([[ True, False, False, False, False],\n",
       "        [ True, False, False, False, False],\n",
       "        [False,  True, False, False, False],\n",
       "        [False,  True, False, False, False],\n",
       "        [False, False, False, False, False],\n",
       "        [False, False, False, False, False],\n",
       "        [False, False, False, False, False],\n",
       "        [False, False, False, False, False],\n",
       "        [False, False, False, False, False],\n",
       "        [False, False, False, False, False]])"
      ]
     },
     "execution_count": 32,
     "metadata": {},
     "output_type": "execute_result"
    }
   ],
   "source": [
    "bol"
   ]
  },
  {
   "cell_type": "code",
   "execution_count": 33,
   "metadata": {},
   "outputs": [
    {
     "data": {
      "text/plain": [
       "tensor([615, 380, 615, 934])"
      ]
     },
     "execution_count": 33,
     "metadata": {},
     "output_type": "execute_result"
    }
   ],
   "source": [
    "# a[bol].reshape(-1,2).T.reshape(-1)#.unsqueeze(0), a[bol].reshape(-1,2).T"
   ]
  },
  {
   "cell_type": "code",
   "execution_count": 35,
   "metadata": {},
   "outputs": [
    {
     "data": {
      "text/plain": [
       "(tensor([[[615],\n",
       "          [380]],\n",
       " \n",
       "         [[615],\n",
       "          [934]]]),\n",
       " tensor([[[615, 380, 270, 407, 777]],\n",
       " \n",
       "         [[615, 784, 572, 385, 380]]]))"
      ]
     },
     "execution_count": 35,
     "metadata": {},
     "output_type": "execute_result"
    }
   ],
   "source": [
    "a[bol].reshape(-1,2).T.unsqueeze(-1), a[4:6][:, None]#, torch.tensor([[[615], [380]], [[615], [934]]])"
   ]
  },
  {
   "cell_type": "code",
   "execution_count": 38,
   "metadata": {},
   "outputs": [
    {
     "data": {
      "text/plain": [
       "tensor([[[ True, False, False, False, False],\n",
       "         [False,  True, False, False, False]],\n",
       "\n",
       "        [[ True, False, False, False, False],\n",
       "         [False,  True, False, False, False]]])"
      ]
     },
     "execution_count": 38,
     "metadata": {},
     "output_type": "execute_result"
    }
   ],
   "source": [
    "unique_token_idx = torch.argmin((a[bol].reshape(-1,2).T.unsqueeze(-1) == a[2:4][:, None]).any(1).long(), axis=1)\n",
    "# torch.argmin((a[bol].reshape(-1,2).T.unsqueeze(-1) == a[2:4][:, None]).any(1).long(), axis=1)\n",
    "a[bol].reshape(-1,2).T.unsqueeze(-1) == a[2:4][:, None]"
   ]
  },
  {
   "cell_type": "code",
   "execution_count": 30,
   "metadata": {},
   "outputs": [],
   "source": [
    "bol[torch.arange(2, 4), unique_token_idx] = True"
   ]
  },
  {
   "cell_type": "code",
   "execution_count": 31,
   "metadata": {},
   "outputs": [
    {
     "data": {
      "text/plain": [
       "tensor([[ True, False, False, False, False],\n",
       "        [ True, False, False, False, False],\n",
       "        [False,  True, False, False, False],\n",
       "        [False,  True, False, False, False],\n",
       "        [False, False, False, False, False],\n",
       "        [False, False, False, False, False],\n",
       "        [False, False, False, False, False],\n",
       "        [False, False, False, False, False],\n",
       "        [False, False, False, False, False],\n",
       "        [False, False, False, False, False]])"
      ]
     },
     "execution_count": 31,
     "metadata": {},
     "output_type": "execute_result"
    }
   ],
   "source": [
    "bol"
   ]
  },
  {
   "cell_type": "code",
   "execution_count": 20,
   "metadata": {},
   "outputs": [
    {
     "data": {
      "text/plain": [
       "tensor([2, 1])"
      ]
     },
     "execution_count": 20,
     "metadata": {},
     "output_type": "execute_result"
    }
   ],
   "source": [
    "torch.argmin((a[4:6][:, None] == torch.tensor([[[615], [380]], [[615], [934]]])).any(dim=1).long(), dim=1)"
   ]
  },
  {
   "cell_type": "code",
   "execution_count": 207,
   "metadata": {},
   "outputs": [],
   "source": [
    "# a[bol].reshape(-1,2).T.unsqueeze(-1) == a[2:4][:, None]\n",
    "bol[[4,5], torch.argmin((a[4:6][:, None] == torch.tensor([[[615], [380]], [[615], [934]]])).any(dim=1).long(), dim=1)+1] = False"
   ]
  },
  {
   "cell_type": "code",
   "execution_count": 206,
   "metadata": {},
   "outputs": [
    {
     "data": {
      "text/plain": [
       "tensor([2, 2])"
      ]
     },
     "execution_count": 206,
     "metadata": {},
     "output_type": "execute_result"
    }
   ],
   "source": [
    "torch.argmin((a[4:6][:, None] == torch.tensor([[[615], [380]], [[615], [934]]])).any(dim=1).long(), dim=1)+1"
   ]
  },
  {
   "cell_type": "code",
   "execution_count": 208,
   "metadata": {},
   "outputs": [
    {
     "data": {
      "text/plain": [
       "tensor([[ True, False, False, False, False],\n",
       "        [ True, False, False, False, False],\n",
       "        [False,  True, False, False, False],\n",
       "        [False,  True, False, False, False],\n",
       "        [False,  True, False, False, False],\n",
       "        [False,  True, False, False, False],\n",
       "        [False,  True, False, False, False],\n",
       "        [False,  True, False, False, False],\n",
       "        [False, False,  True, False, False],\n",
       "        [False, False,  True, False, False]])"
      ]
     },
     "execution_count": 208,
     "metadata": {},
     "output_type": "execute_result"
    }
   ],
   "source": [
    "bol"
   ]
  },
  {
   "cell_type": "code",
   "execution_count": 128,
   "metadata": {},
   "outputs": [
    {
     "data": {
      "text/plain": [
       "(tensor([[[615, 934, 407, 270, 380]],\n",
       " \n",
       "         [[615, 572, 385, 288, 784]]]),\n",
       " tensor([[[615]],\n",
       " \n",
       "         [[615]]]))"
      ]
     },
     "execution_count": 128,
     "metadata": {},
     "output_type": "execute_result"
    }
   ],
   "source": [
    "a[[1,6]][:, None], a[bol][:, None, None]\n"
   ]
  },
  {
   "cell_type": "code",
   "execution_count": 150,
   "metadata": {},
   "outputs": [
    {
     "data": {
      "text/plain": [
       "tensor([1, 0])"
      ]
     },
     "execution_count": 150,
     "metadata": {},
     "output_type": "execute_result"
    }
   ],
   "source": [
    "torch.argmin((torch.tensor([[[615, 934, 407, 270, 380]], [[615, 934, 270, 407, 777]]]) == torch.tensor([[[615], [407]], [[934], [777]]])).any(dim=1).long(), axis=1)"
   ]
  },
  {
   "cell_type": "code",
   "execution_count": 152,
   "metadata": {},
   "outputs": [
    {
     "data": {
      "text/plain": [
       "tensor([[1, 0, 1, 0, 0],\n",
       "        [0, 1, 0, 0, 1]])"
      ]
     },
     "execution_count": 152,
     "metadata": {},
     "output_type": "execute_result"
    }
   ],
   "source": [
    "(torch.tensor([[[615, 934, 407, 270, 380]], [[615, 934, 270, 407, 777]]]) == torch.tensor([[[615], [407]], [[934], [777]]])).any(dim=1).long()\n",
    "\n",
    "# torch.tensor([[[615], [407]], [[934], [777]]]).shape, torch.tensor([[[615, 934, 407, 270, 380]], [[615, 934, 270, 407, 777]]]).shape"
   ]
  },
  {
   "cell_type": "code",
   "execution_count": 10,
   "metadata": {},
   "outputs": [],
   "source": [
    "# Initialize 2d array\n",
    "# arr = torch.tensor([[1, 2, 3, 4], [4, 5, 6, 7], [7, 8, 9, 10]])\n",
    "a = a[:5]\n",
    "# Get unique elements from each row\n",
    "result = torch.zeros(a.size(0), dtype=torch.long)\n",
    "for i in range(a.size(0)):\n",
    "    unique, indices = torch.unique(a[i, :], return_inverse=True)\n",
    "    result[i] = unique[indices[0]]"
   ]
  },
  {
   "attachments": {},
   "cell_type": "markdown",
   "metadata": {},
   "source": [
    "### Adding end token"
   ]
  },
  {
   "cell_type": "code",
   "execution_count": null,
   "metadata": {},
   "outputs": [],
   "source": [
    "torch.where(torch.logical_and(diverse_tokens==320, tgt_len==predictions), i+2, tgt_len)"
   ]
  },
  {
   "cell_type": "code",
   "execution_count": 10,
   "metadata": {},
   "outputs": [
    {
     "data": {
      "text/plain": [
       "tensor([220, 220, 220, 220, 220, 220, 220, 220, 220, 220])"
      ]
     },
     "execution_count": 10,
     "metadata": {},
     "output_type": "execute_result"
    }
   ],
   "source": [
    "torch.full((2,), 220).repeat(5,)"
   ]
  },
  {
   "attachments": {},
   "cell_type": "markdown",
   "metadata": {},
   "source": [
    "## On colab"
   ]
  },
  {
   "cell_type": "code",
   "execution_count": null,
   "metadata": {},
   "outputs": [],
   "source": [
    "def beam_search_auto(\n",
    "    model,\n",
    "    src,\n",
    "    tgt,\n",
    "    src_mask,\n",
    "    src_padding_mask,\n",
    "    tgt_mask,\n",
    "    tgt_padding_mask,\n",
    "    end_symbol: int,\n",
    "    predictions = 20,\n",
    "    beam_width = 5,\n",
    "    batch_size = 2,    \n",
    "):\n",
    "\n",
    "    with torch.no_grad():\n",
    "        pdb.set_trace()           ##\n",
    "\n",
    "        src = src.repeat((1, beam_width))\n",
    "        # src = src.repeat_interleave(beam_width, dim=1)\n",
    "        src_padding_mask = src_padding_mask.repeat((beam_width,1))\n",
    "        # src_padding_mask = src_padding_mask.repeat_interleave(beam_width, dim=0)\n",
    "        tgt = tgt.repeat((1,beam_width))\n",
    "        tgt_padding_mask = tgt_padding_mask.repeat((beam_width, 1))\n",
    "\n",
    "        # pdb.set_trace()           ##\n",
    "\n",
    "        memory = model.encode(src, src_mask, src_padding_mask)  # [Frames, Batches, *]\n",
    "        out = model.decode(tgt, memory, tgt_mask, None, tgt_padding_mask, src_padding_mask)  # [Frames, Batch Size, *]\n",
    "        logits = model.generator(out[-1])\n",
    "\n",
    "        next_probabilities = logits#[-1, :]\n",
    "        probabilities, next_chars = next_probabilities.squeeze().log_softmax(-1).topk(k=beam_width, axis=-1)\n",
    "        \n",
    "        probabilities, next_chars = probabilities[[0,-1],:], next_chars[[0,-1],:]\n",
    "        # pdb.set_trace()           ##\n",
    "        \n",
    "        # tgt = tgt.repeat((1, beam_width))       #repeat BOS  for beam width\n",
    "        # tgt_padding_mask = tgt_padding_mask.unsqueeze(0).repeat((beam_width, 1, 1))\n",
    "\n",
    "        tgt_len = tgt.new_full((batch_size*beam_width, ), predictions)#.repeat((beam_width, 1)) #[beam_width, Batch Size] #same dtype as tgt\n",
    "        \n",
    "        next_token_mask = torch.zeros(next_chars.shape, dtype=torch.bool)\n",
    "        next_token_mask[:batch_size, 0] = True             #first beam decoded acc to highest prob (normal beam search)\n",
    "\n",
    "        for i in range(batch_size, next_chars.shape[0], batch_size):\n",
    "            mask_num = (next_chars[i:i+batch_size][:, None] == next_chars[next_token_mask].reshape(-1,batch_size).T.unsqueeze(-1)).any(dim=1).long()\n",
    "            unique_token_idx = torch.argmin(mask_num, axis=1)\n",
    "            # pdb.set_trace()\n",
    "            next_token_mask[torch.arange(i, i+batch_size), unique_token_idx] = True\n",
    "\n",
    "        next_tokens = next_chars[next_token_mask].reshape(-1,2).T.reshape(-1)\n",
    "        pdb.set_trace()           ##\n",
    "\n",
    "        # tgt = torch.cat((tgt.unsqueeze(-2), next_chars.transpose(1,0).unsqueeze(-2)), -2)      #concat next tokens for each beam (vertically)\n",
    "        tgt = torch.cat((tgt, next_tokens.unsqueeze(0)))\n",
    "\n",
    "        # pdb.set_trace()           ##\n",
    "\n",
    "        # diverse_tokens = torch.tensor([])\n",
    "        # seq_prob = torch.tensor([])\n",
    "\n",
    "        predictions_iterator = range(1, predictions-1)     #1 (0th) prediction already done\n",
    "        for i in predictions_iterator:\n",
    "\n",
    "            tgt_mask = (T.generate_square_subsequent_mask(tgt.size(0))      #size(0) for num of decoded\n",
    "                    .to(tgt.device, dtype=torch.bool))                      #tokens.\n",
    "            pdb.set_trace()\n",
    "            # next_probabilities = torch.tensor([]) # will be containing probabs.(logits) for [batch,1004*beam_width]\n",
    "\n",
    "            tgt_padding_mask = torch.cat([tgt_padding_mask, (tgt_len<=i).unsqueeze(-1)], dim=-1)\n",
    "\n",
    "            for b in range(beam_width):         #if using i, it's continued outside scope of for loop\n",
    "\n",
    "                out_temp = model.decode(tgt, memory, tgt_mask, None, tgt_padding_mask, src_padding_mask)\n",
    "                logits_temp = model.generator(out_temp[-1])\n",
    "\n",
    "                if b == 0:\n",
    "                  # pdb.set_trace()\n",
    "                  probabilities, idx = logits_temp.log_softmax(-1).topk(k=1, axis=-1)    ##\n",
    "\n",
    "                  diverse_tokens = idx.squeeze().unsqueeze(0)\n",
    "                  if i == predictions - 1:\n",
    "                    seq_prob = probabilities.squeeze().unsqueeze(0)\n",
    "\n",
    "                else:\n",
    "                  # pdb.set_trace()\n",
    "\n",
    "                  probabilities, idx = logits_temp.log_softmax(-1).topk(k=b+1, axis=-1)\n",
    "\n",
    "                  unique_mask = torch.stack([(diverse_tokens == idx.T[i]).any(dim=0) for i in range(idx.T.shape[0])], dim=1).long()\n",
    "                  first_unique = unique_mask.argmin(1)                                #in all elements of batch\n",
    "                  # complete_index = torch.stack([torch.arange(unique_mask.shape[0]), first_unique], dim=1)   #containes coordinates -> diverse tokens, dim=0 -> batch_size\n",
    "\n",
    "                  unique_tokens = idx[torch.arange(first_unique.shape[0]), first_unique]      #needs to be checked\n",
    "                  current_token_prob = probabilities[torch.arange(first_unique.shape[0]), first_unique]\n",
    "\n",
    "                  diverse_tokens = torch.cat((diverse_tokens, unique_tokens.unsqueeze(0)))\n",
    "                  if i == predictions - 1:\n",
    "                    seq_prob = torch.cat((seq_prob, current_token_prob.unsqueeze(0)))\n",
    "\n",
    "            tgt_len = torch.where(torch.logical_and(diverse_tokens==end_symbol, tgt_len==predictions), i+2, tgt_len)     #this requires debugging\n",
    "\n",
    "            tgt = torch.cat((tgt, diverse_tokens.unsqueeze(-2)), -2)\n",
    "        \n",
    "        top_b = torch.argmax(seq_prob[1:], axis=0)        #like top-G, but gives top beams for batch elements correspondingly\n",
    "        pdb.set_trace()\n",
    "        return tgt[top_b, :, torch.arange(tgt.size(-1))]"
   ]
  },
  {
   "attachments": {},
   "cell_type": "markdown",
   "metadata": {},
   "source": [
    "## tgt len"
   ]
  },
  {
   "cell_type": "markdown",
   "metadata": {},
   "source": []
  },
  {
   "cell_type": "code",
   "execution_count": 4,
   "metadata": {},
   "outputs": [],
   "source": [
    "tgt_len = torch.tensor([220, 220, 220, 220, 220, 220, 220, 220, 220, 220])\n",
    "next_tokens = torch.tensor([2, 162, 162, 538, 218,  53, 264, 543, 536, 218])\n",
    "end_symbol = 2\n",
    "max_len = 220"
   ]
  },
  {
   "cell_type": "code",
   "execution_count": 5,
   "metadata": {},
   "outputs": [
    {
     "data": {
      "text/plain": [
       "tensor([  7, 220, 220, 220, 220, 220, 220, 220, 220, 220])"
      ]
     },
     "execution_count": 5,
     "metadata": {},
     "output_type": "execute_result"
    }
   ],
   "source": [
    "i = 5\n",
    "tgt_len = torch.where(torch.logical_and(next_tokens==end_symbol, tgt_len==max_len), i+2, tgt_len)     #tNote to darsh\n",
    "tgt_len"
   ]
  },
  {
   "attachments": {},
   "cell_type": "markdown",
   "metadata": {},
   "source": [
    "## for beam"
   ]
  },
  {
   "cell_type": "code",
   "execution_count": 2,
   "metadata": {},
   "outputs": [],
   "source": [
    "import torch"
   ]
  },
  {
   "cell_type": "code",
   "execution_count": 38,
   "metadata": {},
   "outputs": [
    {
     "data": {
      "text/plain": [
       "tensor([[ 1,  2],\n",
       "        [ 3,  4],\n",
       "        [ 5,  6],\n",
       "        [ 7,  8],\n",
       "        [ 9, 10],\n",
       "        [11, 12]])"
      ]
     },
     "execution_count": 38,
     "metadata": {},
     "output_type": "execute_result"
    }
   ],
   "source": [
    "a = torch.tensor([[1,2], \n",
    "              [7,8], \n",
    "              [3,4],\n",
    "              [9,10],\n",
    "              [5,6],\n",
    "              [11,12]])\n",
    "a_r = a.unsqueeze(-1).reshape(3,2,-1).permute(0,2,1).reshape(-1,2).T.reshape(-1,2)\n",
    "a_r"
   ]
  },
  {
   "cell_type": "code",
   "execution_count": null,
   "metadata": {},
   "outputs": [],
   "source": [
    "logits.unsqueeze(-1).reshape(1004,2,-1).permute(0,2,1).reshape(-1,2).T"
   ]
  },
  {
   "cell_type": "code",
   "execution_count": 50,
   "metadata": {},
   "outputs": [],
   "source": [
    "sort = torch.tensor([[400, 200, 100, 500, 300],\n",
    "        [600, 1000, 800, 900, 700]])\n",
    "\n",
    "a = torch.tensor([[1,1,1,2,0], [2,3,4,0,1]])"
   ]
  },
  {
   "cell_type": "code",
   "execution_count": 51,
   "metadata": {},
   "outputs": [
    {
     "data": {
      "text/plain": [
       "tensor([[ 200,  200,  200,  100,  400],\n",
       "        [ 800,  900,  700,  600, 1000]])"
      ]
     },
     "execution_count": 51,
     "metadata": {},
     "output_type": "execute_result"
    }
   ],
   "source": [
    "torch.gather(sort, dim=1, index=a)"
   ]
  },
  {
   "cell_type": "code",
   "execution_count": null,
   "metadata": {},
   "outputs": [],
   "source": [
    "torch.gather(tgt.T.unsqueeze(-1).reshape(2,5,-1), dim=1, index=best_candidates.unsqueeze(-1).expand(-1,-1,2))\n",
    "\n",
    "sorted.reshape(10,2).T"
   ]
  },
  {
   "cell_type": "code",
   "execution_count": null,
   "metadata": {},
   "outputs": [],
   "source": [
    "tgt_traj.permute(1,0,2).unsqueeze(-2).reshape(2,5,-1,3)"
   ]
  },
  {
   "cell_type": "code",
   "execution_count": 52,
   "metadata": {},
   "outputs": [],
   "source": [
    "traj = torch.tensor([[[[ 0.0000,  0.0000,  0.0000],\n",
    "          [ 1.7455, -0.0568,  0.6155],\n",
    "          [ 1.6696, -0.1658,  0.7410]],\n",
    "\n",
    "         [[ 0.0000,  0.0000,  0.0000],\n",
    "          [ 1.7455, -0.0568,  0.6155],\n",
    "          [ 1.7220, -0.2913,  0.3087]],\n",
    "\n",
    "         [[ 0.0000,  0.0000,  0.0000],\n",
    "          [ 1.7455, -0.0568,  0.6155],\n",
    "          [ 1.6143, -0.0836,  0.7001]],\n",
    "\n",
    "         [[ 0.0000,  0.0000,  0.0000],\n",
    "          [ 1.7455, -0.0568,  0.6155],\n",
    "          [ 1.8225,  0.0631,  0.7298]],\n",
    "\n",
    "         [[ 0.0000,  0.0000,  0.0000],\n",
    "          [ 1.7455, -0.0568,  0.6155],\n",
    "          [ 1.8535,  0.1058,  0.7786]]],\n",
    "\n",
    "\n",
    "        [[[ 0.0000,  0.0000,  0.0000],\n",
    "          [ 2.0557, -1.3469, -0.0123],\n",
    "          [ 1.9140, -1.4430,  0.0025]],\n",
    "\n",
    "         [[ 0.0000,  0.0000,  0.0000],\n",
    "          [ 2.0557, -1.3469, -0.0123],\n",
    "          [ 1.7899, -1.2139, -0.1138]],\n",
    "\n",
    "         [[ 0.0000,  0.0000,  0.0000],\n",
    "          [ 2.0557, -1.3469, -0.0123],\n",
    "          [ 2.0010, -1.1760,  0.0062]],\n",
    "\n",
    "         [[ 0.0000,  0.0000,  0.0000],\n",
    "          [ 2.0557, -1.3469, -0.0123],\n",
    "          [ 1.8922, -1.4924, -0.0522]],\n",
    "\n",
    "         [[ 0.0000,  0.0000,  0.0000],\n",
    "          [ 2.0557, -1.3469, -0.0123],\n",
    "          [ 2.1545, -1.1199, -0.0447]]]])"
   ]
  },
  {
   "cell_type": "code",
   "execution_count": 53,
   "metadata": {},
   "outputs": [],
   "source": [
    "best = torch.tensor([[4, 2, 1, 0, 3],\n",
    "        [2, 1, 4, 3, 0]])"
   ]
  },
  {
   "cell_type": "code",
   "execution_count": 63,
   "metadata": {},
   "outputs": [
    {
     "data": {
      "text/plain": [
       "tensor([[4, 2, 1, 0, 3],\n",
       "        [2, 1, 4, 3, 0]])"
      ]
     },
     "execution_count": 63,
     "metadata": {},
     "output_type": "execute_result"
    }
   ],
   "source": [
    "torch.tensor([[4, 2, 1, 0, 3],\n",
    "        [2, 1, 4, 3, 0]])"
   ]
  },
  {
   "cell_type": "code",
   "execution_count": 65,
   "metadata": {},
   "outputs": [
    {
     "data": {
      "text/plain": [
       "tensor([[[[4, 4, 4],\n",
       "          [4, 4, 4],\n",
       "          [4, 4, 4]],\n",
       "\n",
       "         [[2, 2, 2],\n",
       "          [2, 2, 2],\n",
       "          [2, 2, 2]],\n",
       "\n",
       "         [[1, 1, 1],\n",
       "          [1, 1, 1],\n",
       "          [1, 1, 1]],\n",
       "\n",
       "         [[0, 0, 0],\n",
       "          [0, 0, 0],\n",
       "          [0, 0, 0]],\n",
       "\n",
       "         [[3, 3, 3],\n",
       "          [3, 3, 3],\n",
       "          [3, 3, 3]]],\n",
       "\n",
       "\n",
       "        [[[2, 2, 2],\n",
       "          [2, 2, 2],\n",
       "          [2, 2, 2]],\n",
       "\n",
       "         [[1, 1, 1],\n",
       "          [1, 1, 1],\n",
       "          [1, 1, 1]],\n",
       "\n",
       "         [[4, 4, 4],\n",
       "          [4, 4, 4],\n",
       "          [4, 4, 4]],\n",
       "\n",
       "         [[3, 3, 3],\n",
       "          [3, 3, 3],\n",
       "          [3, 3, 3]],\n",
       "\n",
       "         [[0, 0, 0],\n",
       "          [0, 0, 0],\n",
       "          [0, 0, 0]]]])"
      ]
     },
     "execution_count": 65,
     "metadata": {},
     "output_type": "execute_result"
    }
   ],
   "source": [
    "best.unsqueeze(-1).unsqueeze(-1).expand(-1,-1,3,3)"
   ]
  },
  {
   "cell_type": "code",
   "execution_count": 69,
   "metadata": {},
   "outputs": [
    {
     "data": {
      "text/plain": [
       "tensor([[[[ 0.0000,  0.0000,  0.0000],\n",
       "          [ 1.7455, -0.0568,  0.6155],\n",
       "          [ 1.8535,  0.1058,  0.7786]],\n",
       "\n",
       "         [[ 0.0000,  0.0000,  0.0000],\n",
       "          [ 1.7455, -0.0568,  0.6155],\n",
       "          [ 1.6143, -0.0836,  0.7001]],\n",
       "\n",
       "         [[ 0.0000,  0.0000,  0.0000],\n",
       "          [ 1.7455, -0.0568,  0.6155],\n",
       "          [ 1.7220, -0.2913,  0.3087]],\n",
       "\n",
       "         [[ 0.0000,  0.0000,  0.0000],\n",
       "          [ 1.7455, -0.0568,  0.6155],\n",
       "          [ 1.6696, -0.1658,  0.7410]],\n",
       "\n",
       "         [[ 0.0000,  0.0000,  0.0000],\n",
       "          [ 1.7455, -0.0568,  0.6155],\n",
       "          [ 1.8225,  0.0631,  0.7298]]],\n",
       "\n",
       "\n",
       "        [[[ 0.0000,  0.0000,  0.0000],\n",
       "          [ 2.0557, -1.3469, -0.0123],\n",
       "          [ 2.0010, -1.1760,  0.0062]],\n",
       "\n",
       "         [[ 0.0000,  0.0000,  0.0000],\n",
       "          [ 2.0557, -1.3469, -0.0123],\n",
       "          [ 1.7899, -1.2139, -0.1138]],\n",
       "\n",
       "         [[ 0.0000,  0.0000,  0.0000],\n",
       "          [ 2.0557, -1.3469, -0.0123],\n",
       "          [ 2.1545, -1.1199, -0.0447]],\n",
       "\n",
       "         [[ 0.0000,  0.0000,  0.0000],\n",
       "          [ 2.0557, -1.3469, -0.0123],\n",
       "          [ 1.8922, -1.4924, -0.0522]],\n",
       "\n",
       "         [[ 0.0000,  0.0000,  0.0000],\n",
       "          [ 2.0557, -1.3469, -0.0123],\n",
       "          [ 1.9140, -1.4430,  0.0025]]]])"
      ]
     },
     "execution_count": 69,
     "metadata": {},
     "output_type": "execute_result"
    }
   ],
   "source": [
    "sorted_traj = torch.gather(traj, dim=1, index=best.unsqueeze(-1).unsqueeze(-1).expand(-1,-1,3,3))\n",
    "sorted_traj"
   ]
  },
  {
   "cell_type": "code",
   "execution_count": 72,
   "metadata": {},
   "outputs": [
    {
     "data": {
      "text/plain": [
       "tensor([[[ 0.0000,  0.0000,  0.0000],\n",
       "         [ 0.0000,  0.0000,  0.0000],\n",
       "         [ 0.0000,  0.0000,  0.0000],\n",
       "         [ 0.0000,  0.0000,  0.0000],\n",
       "         [ 0.0000,  0.0000,  0.0000],\n",
       "         [ 0.0000,  0.0000,  0.0000],\n",
       "         [ 0.0000,  0.0000,  0.0000],\n",
       "         [ 0.0000,  0.0000,  0.0000],\n",
       "         [ 0.0000,  0.0000,  0.0000],\n",
       "         [ 0.0000,  0.0000,  0.0000]],\n",
       "\n",
       "        [[ 1.7455, -0.0568,  0.6155],\n",
       "         [ 1.7455, -0.0568,  0.6155],\n",
       "         [ 1.7455, -0.0568,  0.6155],\n",
       "         [ 1.7455, -0.0568,  0.6155],\n",
       "         [ 1.7455, -0.0568,  0.6155],\n",
       "         [ 2.0557, -1.3469, -0.0123],\n",
       "         [ 2.0557, -1.3469, -0.0123],\n",
       "         [ 2.0557, -1.3469, -0.0123],\n",
       "         [ 2.0557, -1.3469, -0.0123],\n",
       "         [ 2.0557, -1.3469, -0.0123]],\n",
       "\n",
       "        [[ 1.8535,  0.1058,  0.7786],\n",
       "         [ 1.6143, -0.0836,  0.7001],\n",
       "         [ 1.7220, -0.2913,  0.3087],\n",
       "         [ 1.6696, -0.1658,  0.7410],\n",
       "         [ 1.8225,  0.0631,  0.7298],\n",
       "         [ 2.0010, -1.1760,  0.0062],\n",
       "         [ 1.7899, -1.2139, -0.1138],\n",
       "         [ 2.1545, -1.1199, -0.0447],\n",
       "         [ 1.8922, -1.4924, -0.0522],\n",
       "         [ 1.9140, -1.4430,  0.0025]]])"
      ]
     },
     "execution_count": 72,
     "metadata": {},
     "output_type": "execute_result"
    }
   ],
   "source": [
    "sorted_traj.reshape(2*5, 3, 3).permute(1,0,2)"
   ]
  },
  {
   "cell_type": "code",
   "execution_count": 71,
   "metadata": {},
   "outputs": [
    {
     "data": {
      "text/plain": [
       "tensor([[[[ 0.0000,  0.0000,  0.0000],\n",
       "          [ 1.7455, -0.0568,  0.6155],\n",
       "          [ 1.6696, -0.1658,  0.7410]],\n",
       "\n",
       "         [[ 0.0000,  0.0000,  0.0000],\n",
       "          [ 1.7455, -0.0568,  0.6155],\n",
       "          [ 1.7220, -0.2913,  0.3087]],\n",
       "\n",
       "         [[ 0.0000,  0.0000,  0.0000],\n",
       "          [ 1.7455, -0.0568,  0.6155],\n",
       "          [ 1.6143, -0.0836,  0.7001]],\n",
       "\n",
       "         [[ 0.0000,  0.0000,  0.0000],\n",
       "          [ 1.7455, -0.0568,  0.6155],\n",
       "          [ 1.8225,  0.0631,  0.7298]],\n",
       "\n",
       "         [[ 0.0000,  0.0000,  0.0000],\n",
       "          [ 1.7455, -0.0568,  0.6155],\n",
       "          [ 1.8535,  0.1058,  0.7786]]],\n",
       "\n",
       "\n",
       "        [[[ 0.0000,  0.0000,  0.0000],\n",
       "          [ 2.0557, -1.3469, -0.0123],\n",
       "          [ 1.9140, -1.4430,  0.0025]],\n",
       "\n",
       "         [[ 0.0000,  0.0000,  0.0000],\n",
       "          [ 2.0557, -1.3469, -0.0123],\n",
       "          [ 1.7899, -1.2139, -0.1138]],\n",
       "\n",
       "         [[ 0.0000,  0.0000,  0.0000],\n",
       "          [ 2.0557, -1.3469, -0.0123],\n",
       "          [ 2.0010, -1.1760,  0.0062]],\n",
       "\n",
       "         [[ 0.0000,  0.0000,  0.0000],\n",
       "          [ 2.0557, -1.3469, -0.0123],\n",
       "          [ 1.8922, -1.4924, -0.0522]],\n",
       "\n",
       "         [[ 0.0000,  0.0000,  0.0000],\n",
       "          [ 2.0557, -1.3469, -0.0123],\n",
       "          [ 2.1545, -1.1199, -0.0447]]]])"
      ]
     },
     "execution_count": 71,
     "metadata": {},
     "output_type": "execute_result"
    }
   ],
   "source": [
    "traj"
   ]
  },
  {
   "cell_type": "code",
   "execution_count": null,
   "metadata": {},
   "outputs": [],
   "source": [
    "torch.gather(tgt.T.unsqueeze(-1).reshape(batch_size, beam_width,-1), dim=-2, index=index)"
   ]
  },
  {
   "cell_type": "code",
   "execution_count": null,
   "metadata": {},
   "outputs": [],
   "source": [
    "(-1,tgt.shape[0]) if tgt.shape[0]==1 else: expand(-1,-1,tgt.shape[0])"
   ]
  },
  {
   "cell_type": "code",
   "execution_count": null,
   "metadata": {},
   "outputs": [],
   "source": [
    "tgt.T.unsqueeze(-1).reshape(batch_size, beam_width,-1)\n",
    "tensor([[[  1, 162],\n",
    "         [  1, 406],\n",
    "         [  1, 536],\n",
    "         [  1, 538],\n",
    "         [  1, 218]],\n",
    "\n",
    "        [[  1, 162],\n",
    "         [  1, 536],\n",
    "         [  1,  53],\n",
    "         [  1, 516],\n",
    "         [  1, 538]]])"
   ]
  },
  {
   "attachments": {},
   "cell_type": "markdown",
   "metadata": {},
   "source": [
    "### 1 batch"
   ]
  },
  {
   "cell_type": "code",
   "execution_count": 1,
   "metadata": {},
   "outputs": [],
   "source": [
    "import torch"
   ]
  },
  {
   "cell_type": "code",
   "execution_count": 55,
   "metadata": {},
   "outputs": [],
   "source": [
    "next_token_mask = torch.tensor([[ True, False, False, False, False],\n",
    "        [False, False, False, False, False],\n",
    "        [False, False, False, False, False],\n",
    "        [False, False, False, False, False],\n",
    "        [False, False, False, False, False]])\n",
    "\n",
    "next_chars = torch.tensor([[162, 538, 406, 543, 536],\n",
    "        [162, 538, 406, 543, 536],\n",
    "        [162, 538, 406, 543, 536],\n",
    "        [162, 538, 406, 543, 536],\n",
    "        [162, 538, 406, 543, 536]])\n",
    "\n"
   ]
  },
  {
   "cell_type": "code",
   "execution_count": 76,
   "metadata": {},
   "outputs": [
    {
     "data": {
      "text/plain": [
       "tensor([[[ True, False, False, False, False],\n",
       "         [False, False, False, False, False],\n",
       "         [False, False, False,  True, False]]])"
      ]
     },
     "execution_count": 76,
     "metadata": {},
     "output_type": "execute_result"
    }
   ],
   "source": [
    "torch.tensor([162, 538, 406, 543, 536])[None, :] == torch.tensor([162,544,543,]).unsqueeze(-1).T.unsqueeze(-1)"
   ]
  },
  {
   "cell_type": "code",
   "execution_count": 79,
   "metadata": {},
   "outputs": [],
   "source": [
    "mask_num = (torch.tensor([162, 538, 406, 543, 536])[None, :] == torch.tensor([162,544, 543]).unsqueeze(-1).T.unsqueeze(-1)).any(dim=1).long()\n"
   ]
  },
  {
   "cell_type": "code",
   "execution_count": 72,
   "metadata": {},
   "outputs": [
    {
     "data": {
      "text/plain": [
       "tensor([[1, 1, 1, 0, 0]])"
      ]
     },
     "execution_count": 72,
     "metadata": {},
     "output_type": "execute_result"
    }
   ],
   "source": [
    "mask_num = (next_chars[3] == next_chars[next_token_mask].unsqueeze(-1).T.unsqueeze(-1)).any(dim=1).long()\n",
    "mask_num"
   ]
  },
  {
   "cell_type": "code",
   "execution_count": 80,
   "metadata": {},
   "outputs": [
    {
     "data": {
      "text/plain": [
       "tensor(1)"
      ]
     },
     "execution_count": 80,
     "metadata": {},
     "output_type": "execute_result"
    }
   ],
   "source": [
    "unique_token_idx = torch.argmin(mask_num)\n",
    "unique_token_idx"
   ]
  },
  {
   "cell_type": "code",
   "execution_count": 64,
   "metadata": {},
   "outputs": [
    {
     "data": {
      "text/plain": [
       "tensor([[ True, False, False, False, False],\n",
       "        [False,  True, False, False, False],\n",
       "        [False, False,  True, False, False],\n",
       "        [False, False, False, False, False],\n",
       "        [False, False, False, False, False]])"
      ]
     },
     "execution_count": 64,
     "metadata": {},
     "output_type": "execute_result"
    }
   ],
   "source": [
    "next_token_mask[2, unique_token_idx] = True\n",
    "next_token_mask"
   ]
  },
  {
   "cell_type": "code",
   "execution_count": null,
   "metadata": {},
   "outputs": [],
   "source": [
    "torch.gather(tgt.T.unsqueeze(-1).reshape(beam_width,-1), dim=0, index=best_candidates.unsqueeze(-1).expand(-1,tgt.shape[0]))"
   ]
  },
  {
   "cell_type": "code",
   "execution_count": null,
   "metadata": {},
   "outputs": [],
   "source": [
    "torch.gather(tgt_traj.permute(1,0,2).unsqueeze(-2).reshape(beam_width,-1,3), dim=0, index=best_candidates.unsqueeze(-1).unsqueeze(-1).expand(-1,tgt_traj.shape[0],3))"
   ]
  },
  {
   "cell_type": "code",
   "execution_count": 2,
   "metadata": {},
   "outputs": [
    {
     "data": {
      "text/plain": [
       "tensor([[ True],\n",
       "        [False],\n",
       "        [False],\n",
       "        [False],\n",
       "        [False]])"
      ]
     },
     "execution_count": 2,
     "metadata": {},
     "output_type": "execute_result"
    }
   ],
   "source": [
    "a = torch.tensor([[162],\n",
    "        [406],\n",
    "        [536],\n",
    "        [538],\n",
    "        [218]])\n",
    "\n",
    "b = torch.tensor([[162]])\n",
    "\n",
    "(a == b)"
   ]
  },
  {
   "cell_type": "code",
   "execution_count": 7,
   "metadata": {},
   "outputs": [
    {
     "data": {
      "text/plain": [
       "tensor([1, 0, 0, 0, 0])"
      ]
     },
     "execution_count": 7,
     "metadata": {},
     "output_type": "execute_result"
    }
   ],
   "source": [
    "mask_num = (a == b).any(dim=1).long()\n",
    "mask_num"
   ]
  },
  {
   "cell_type": "code",
   "execution_count": 13,
   "metadata": {},
   "outputs": [],
   "source": [
    "unq_token = torch.argmin(mask_num)"
   ]
  },
  {
   "cell_type": "code",
   "execution_count": 15,
   "metadata": {},
   "outputs": [],
   "source": [
    "next_token_mask[1,unq_token] = True"
   ]
  },
  {
   "cell_type": "code",
   "execution_count": 16,
   "metadata": {},
   "outputs": [
    {
     "data": {
      "text/plain": [
       "tensor([[ True, False, False, False, False],\n",
       "        [False,  True, False, False, False],\n",
       "        [False, False, False, False, False],\n",
       "        [False, False, False, False, False],\n",
       "        [False, False, False, False, False]])"
      ]
     },
     "execution_count": 16,
     "metadata": {},
     "output_type": "execute_result"
    }
   ],
   "source": [
    "next_token_mask"
   ]
  },
  {
   "attachments": {},
   "cell_type": "markdown",
   "metadata": {},
   "source": [
    "### beam*batch for diverse_beam "
   ]
  },
  {
   "cell_type": "code",
   "execution_count": 2,
   "metadata": {},
   "outputs": [],
   "source": [
    "import torch\n",
    "a = torch.tensor([[ 1,  1,  1,  1,  1,  1,  1,  1,  1,  1],\n",
    "        [ 3,  4,  3,  4,  3,  4,  3,  4,  3,  4],\n",
    "        [31,  6, 31,  6, 31,  6, 31,  6, 31,  6],\n",
    "        [14,  3, 14,  3, 14,  3, 14,  3, 14,  3],\n",
    "        [ 7, 18,  7, 18,  7, 18,  7, 18,  7, 18],\n",
    "        [ 3,  3,  3,  3,  3,  3,  3,  3,  3,  3],\n",
    "        [ 2,  5,  2,  5,  2,  5,  2,  5,  2,  5],\n",
    "        [ 0,  2,  0,  2,  0,  2,  0,  2,  0,  2]])"
   ]
  },
  {
   "cell_type": "code",
   "execution_count": 42,
   "metadata": {},
   "outputs": [
    {
     "data": {
      "text/plain": [
       "tensor([[ 1,  3, 31, 14,  7,  3,  2,  0,  1,  4,  6,  3, 18,  3,  5,  2],\n",
       "        [ 1,  3, 31, 14,  7,  3,  2,  0,  1,  4,  6,  3, 18,  3,  5,  2],\n",
       "        [ 1,  3, 31, 14,  7,  3,  2,  0,  1,  4,  6,  3, 18,  3,  5,  2],\n",
       "        [ 1,  3, 31, 14,  7,  3,  2,  0,  1,  4,  6,  3, 18,  3,  5,  2],\n",
       "        [ 1,  3, 31, 14,  7,  3,  2,  0,  1,  4,  6,  3, 18,  3,  5,  2]])"
      ]
     },
     "execution_count": 42,
     "metadata": {},
     "output_type": "execute_result"
    }
   ],
   "source": [
    "a.T.reshape(5, -1)"
   ]
  },
  {
   "cell_type": "code",
   "execution_count": 60,
   "metadata": {},
   "outputs": [
    {
     "data": {
      "text/plain": [
       "tensor([[[ 1,  3, 31, 14,  7,  3,  2,  0],\n",
       "         [ 1,  3, 31, 14,  7,  3,  2,  0],\n",
       "         [ 1,  3, 31, 14,  7,  3,  2,  0],\n",
       "         [ 1,  3, 31, 14,  7,  3,  2,  0],\n",
       "         [ 1,  3, 31, 14,  7,  3,  2,  0]],\n",
       "\n",
       "        [[ 1,  4,  6,  3, 18,  3,  5,  2],\n",
       "         [ 1,  4,  6,  3, 18,  3,  5,  2],\n",
       "         [ 1,  4,  6,  3, 18,  3,  5,  2],\n",
       "         [ 1,  4,  6,  3, 18,  3,  5,  2],\n",
       "         [ 1,  4,  6,  3, 18,  3,  5,  2]]])"
      ]
     },
     "execution_count": 60,
     "metadata": {},
     "output_type": "execute_result"
    }
   ],
   "source": [
    "a.T.reshape(5, -1).T.reshape(-1, 8, 5).permute(0,2,1)#.reshape(-1, 8)"
   ]
  },
  {
   "cell_type": "code",
   "execution_count": null,
   "metadata": {},
   "outputs": [],
   "source": [
    "tgt = tgt.T.reshape(beam_width, -1).T.reshape(-1, tgt.shape[0], beam_width).permute(0,2,1).reshape(-1, tgt.shape[0])\n"
   ]
  },
  {
   "cell_type": "code",
   "execution_count": 49,
   "metadata": {},
   "outputs": [],
   "source": [
    "traj = torch.tensor([[[ 1.7455e+00, -5.6844e-02,  6.1554e-01],\n",
    "         [ 2.0557e+00, -1.3469e+00, -1.2344e-02],\n",
    "         [ 1.7455e+00, -5.6844e-02,  6.1554e-01],\n",
    "         [ 2.0557e+00, -1.3469e+00, -1.2344e-02],\n",
    "         [ 1.7455e+00, -5.6844e-02,  6.1554e-01],\n",
    "         [ 2.0557e+00, -1.3469e+00, -1.2344e-02],\n",
    "         [ 1.7455e+00, -5.6844e-02,  6.1554e-01],\n",
    "         [ 2.0557e+00, -1.3469e+00, -1.2344e-02],\n",
    "         [ 1.7455e+00, -5.6844e-02,  6.1554e-01],\n",
    "         [ 2.0557e+00, -1.3469e+00, -1.2344e-02]],\n",
    "\n",
    "        [[ 1.6696e+00, -1.6585e-01,  7.4102e-01],\n",
    "         [ 1.9140e+00, -1.4430e+00,  2.4912e-03],\n",
    "         [ 1.7220e+00, -2.9131e-01,  3.0874e-01],\n",
    "         [ 1.7899e+00, -1.2139e+00, -1.1377e-01],\n",
    "         [ 1.6143e+00, -8.3562e-02,  7.0007e-01],\n",
    "         [ 2.0010e+00, -1.1760e+00,  6.2330e-03],\n",
    "         [ 1.8225e+00,  6.3072e-02,  7.2978e-01],\n",
    "         [ 1.8922e+00, -1.4924e+00, -5.2164e-02],\n",
    "         [ 1.8535e+00,  1.0582e-01,  7.7863e-01],\n",
    "         [ 2.1545e+00, -1.1199e+00, -4.4663e-02]],\n",
    "\n",
    "        [[ 1.6309e+00, -1.7856e-01,  7.0456e-01],\n",
    "         [ 1.8547e+00, -1.4492e+00, -4.6958e-02],\n",
    "         [ 1.8006e+00, -8.1478e-02,  6.2920e-01],\n",
    "         [ 1.9125e+00, -1.2195e+00, -3.2330e-02],\n",
    "         [ 1.5869e+00, -1.0427e-01,  6.7478e-01],\n",
    "         [ 2.1539e+00, -1.2050e+00, -1.5263e-01],\n",
    "         [ 1.6811e+00, -1.0307e-01,  3.1560e-01],\n",
    "         [ 1.8577e+00, -1.3940e+00,  3.9249e-02],\n",
    "         [ 1.3586e+00,  2.9348e-02,  6.0311e-01],\n",
    "         [ 1.7494e+00, -1.1951e+00, -1.3151e-02]],\n",
    "\n",
    "        [[ 1.5849e+00, -1.9901e-01,  6.1770e-01],\n",
    "         [ 1.8238e+00, -1.4544e+00, -1.4417e-01],\n",
    "         [ 1.7507e+00, -5.4340e-02,  5.9537e-01],\n",
    "         [ 1.9194e+00, -1.2811e+00, -7.6154e-02],\n",
    "         [ 1.5385e+00, -1.2356e-01,  6.2865e-01],\n",
    "         [ 2.1719e+00, -1.1868e+00, -1.9756e-01],\n",
    "         [ 1.6387e+00, -1.1173e-01,  1.9612e-01],\n",
    "         [ 1.7911e+00, -1.4470e+00,  4.5338e-02],\n",
    "         [ 1.3139e+00,  2.6348e-01,  5.2454e-01],\n",
    "         [ 1.6393e+00, -1.1473e+00, -1.2794e-01]],\n",
    "\n",
    "        [[ 1.5684e+00, -1.9590e-01,  5.3054e-01],\n",
    "         [ 1.8394e+00, -1.4384e+00, -2.4975e-01],\n",
    "         [ 1.7027e+00, -2.7014e-02,  5.6822e-01],\n",
    "         [ 1.9213e+00, -1.3231e+00, -1.6409e-01],\n",
    "         [ 1.4981e+00, -1.3350e-01,  5.7848e-01],\n",
    "         [ 2.1954e+00, -1.1625e+00, -2.4736e-01],\n",
    "         [ 1.7248e+00,  4.6674e-02,  5.6917e-01],\n",
    "         [ 1.7543e+00, -1.4842e+00,  8.6051e-03],\n",
    "         [ 1.4030e+00, -8.3446e-02,  1.5392e-01],\n",
    "         [ 1.5748e+00, -1.1021e+00, -2.2151e-01]],\n",
    "\n",
    "        [[ 1.5812e+00, -1.5451e-01,  4.6006e-01],\n",
    "         [ 1.8845e+00, -1.3881e+00, -3.3331e-01],\n",
    "         [ 1.6901e+00,  1.4884e-02,  5.4989e-01],\n",
    "         [ 2.0527e+00, -1.2575e+00, -2.9073e-01],\n",
    "         [ 1.4943e+00, -1.0713e-01,  5.4391e-01],\n",
    "         [ 1.8507e+00, -1.2163e+00, -1.4111e-01],\n",
    "         [ 1.5560e+00, -6.9145e-02,  7.3765e-02],\n",
    "         [ 1.8714e+00, -1.5074e+00, -6.7297e-02],\n",
    "         [ 1.6210e+00,  8.6811e-02,  4.8422e-01],\n",
    "         [ 1.7747e+00, -1.1206e+00, -3.4599e-01]],\n",
    "\n",
    "        [[ 1.6144e+00, -9.7311e-02,  4.1699e-01],\n",
    "         [ 1.9256e+00, -1.3133e+00, -3.7445e-01],\n",
    "         [ 1.7035e+00,  7.0474e-02,  5.3582e-01],\n",
    "         [ 2.0673e+00, -1.1685e+00, -3.0243e-01],\n",
    "         [ 1.5141e+00, -3.8685e-02,  5.3419e-01],\n",
    "         [ 1.8250e+00, -1.1131e+00, -2.5541e-01],\n",
    "         [ 1.7361e+00,  1.5478e-01,  5.5226e-01],\n",
    "         [ 1.9154e+00, -1.4425e+00, -1.2083e-01],\n",
    "         [ 1.4373e+00,  7.2495e-03,  7.1947e-02],\n",
    "         [ 1.7358e+00, -1.0169e+00, -2.3781e-01]],\n",
    "\n",
    "        [[ 1.7792e+00,  1.6336e-01,  2.9874e-01],\n",
    "         [ 1.9309e+00, -1.2384e+00, -3.8821e-01],\n",
    "         [ 1.6609e+00, -1.5770e-01,  5.8443e-01],\n",
    "         [ 2.0853e+00, -1.0686e+00, -3.0174e-01],\n",
    "         [ 1.5259e+00,  3.5003e-02,  5.3813e-01],\n",
    "         [ 2.0538e+00, -9.6563e-01, -2.8511e-01],\n",
    "         [ 1.3953e+00,  3.7005e-01,  3.5536e-01],\n",
    "         [ 1.8143e+00, -1.5419e+00, -1.1529e-01],\n",
    "         [ 1.6744e+00,  1.9671e-01,  5.0487e-01],\n",
    "         [ 1.6834e+00, -9.7446e-01, -1.9973e-01]],\n",
    "\n",
    "        [[ 1.6652e+00, -5.1144e-03,  4.1915e-01],\n",
    "         [ 1.8969e+00, -1.1791e+00, -3.8666e-01],\n",
    "         [ 1.6857e+00,  1.4457e-01,  4.8871e-01],\n",
    "         [ 2.0798e+00, -1.0054e+00, -2.9252e-01],\n",
    "         [ 1.5086e+00,  7.8764e-02,  5.5202e-01],\n",
    "         [ 2.0216e+00, -9.0186e-01, -2.5615e-01],\n",
    "         [ 1.3711e+00,  4.3088e-01,  3.5545e-01],\n",
    "         [ 1.7357e+00, -1.3148e+00, -4.9787e-02],\n",
    "         [ 1.4678e+00,  1.1955e-01,  5.3555e-02],\n",
    "         [ 1.7744e+00, -1.0325e+00, -3.3688e-01]],\n",
    "\n",
    "        [[ 1.7802e+00,  2.1647e-01,  2.8849e-01],\n",
    "         [ 1.8628e+00, -1.1508e+00, -3.7630e-01],\n",
    "         [ 1.6304e+00, -9.7313e-02,  5.6657e-01],\n",
    "         [ 2.0630e+00, -9.7775e-01, -2.7328e-01],\n",
    "         [ 1.4739e+00,  9.2773e-02,  5.6999e-01],\n",
    "         [ 2.0044e+00, -8.5657e-01, -2.0517e-01],\n",
    "         [ 1.3434e+00,  4.5955e-01,  3.6868e-01],\n",
    "         [ 1.7080e+00, -1.2694e+00, -2.0500e-02],\n",
    "         [ 1.6755e+00,  2.5939e-01,  5.5437e-01],\n",
    "         [ 1.8138e+00, -7.8683e-01, -2.2755e-01]],\n",
    "\n",
    "        [[ 1.7892e+00,  2.2245e-01,  3.1195e-01],\n",
    "         [ 1.8625e+00, -1.1397e+00, -3.5588e-01],\n",
    "         [ 1.6260e+00, -9.3626e-02,  5.6346e-01],\n",
    "         [ 2.0707e+00, -9.6333e-01, -2.4626e-01],\n",
    "         [ 1.4540e+00,  8.4122e-02,  5.8224e-01],\n",
    "         [ 2.0197e+00, -8.3992e-01, -1.5126e-01],\n",
    "         [ 1.3420e+00,  4.5787e-01,  3.9350e-01],\n",
    "         [ 1.7062e+00, -1.2408e+00,  6.9275e-03],\n",
    "         [ 1.4979e+00,  1.5432e-01,  1.2997e-01],\n",
    "         [ 1.7338e+00, -8.8851e-01, -2.8608e-01]],\n",
    "\n",
    "        [[ 1.8234e+00,  2.3182e-01,  3.3802e-01],\n",
    "         [ 1.8999e+00, -1.1268e+00, -3.4011e-01],\n",
    "         [ 1.6544e+00, -8.5343e-02,  5.6595e-01],\n",
    "         [ 2.1026e+00, -9.4216e-01, -2.1912e-01],\n",
    "         [ 1.4475e+00,  3.8639e-01,  4.7575e-01],\n",
    "         [ 2.0619e+00, -8.4376e-01, -1.1763e-01],\n",
    "         [ 1.6158e+00,  2.8005e-01,  5.9161e-01],\n",
    "         [ 1.7347e+00, -1.2233e+00,  2.1372e-02],\n",
    "         [ 1.5419e+00,  1.7032e-01,  6.4607e-01],\n",
    "         [ 1.8267e+00, -6.7438e-01, -1.9960e-01]],\n",
    "\n",
    "        [[ 1.8679e+00,  2.4728e-01,  3.8056e-01],\n",
    "         [ 1.9552e+00, -1.1132e+00, -3.2905e-01],\n",
    "         [ 1.6966e+00, -6.7730e-02,  5.8393e-01],\n",
    "         [ 2.1535e+00, -9.1276e-01, -1.8024e-01],\n",
    "         [ 1.4666e+00,  3.7360e-01,  5.2178e-01],\n",
    "         [ 2.1108e+00, -8.4002e-01, -9.2446e-02],\n",
    "         [ 1.6481e+00,  2.9515e-01,  6.1441e-01],\n",
    "         [ 1.7715e+00, -1.2138e+00,  3.8267e-02],\n",
    "         [ 1.6095e+00,  1.7503e-01,  6.5636e-01],\n",
    "         [ 1.8941e+00, -8.0758e-01, -2.5988e-01]],\n",
    "\n",
    "        [[ 1.9146e+00,  2.7293e-01,  4.1195e-01],\n",
    "         [ 1.9971e+00, -1.0978e+00, -3.1093e-01],\n",
    "         [ 1.7393e+00, -5.8384e-02,  6.0268e-01],\n",
    "         [ 2.1885e+00, -8.8474e-01, -1.4409e-01],\n",
    "         [ 1.4722e+00,  3.7975e-01,  5.5812e-01],\n",
    "         [ 2.1416e+00, -8.4328e-01, -8.1198e-02],\n",
    "         [ 1.6805e+00,  2.9929e-01,  6.3070e-01],\n",
    "         [ 1.7946e+00, -1.2089e+00,  5.7609e-02],\n",
    "         [ 1.6604e+00,  1.7319e-01,  6.4103e-01],\n",
    "         [ 1.9301e+00, -6.5119e-01, -2.1151e-01]],\n",
    "\n",
    "        [[ 1.9443e+00,  2.9547e-01,  4.0084e-01],\n",
    "         [ 1.9982e+00, -1.0875e+00, -3.0296e-01],\n",
    "         [ 1.7471e+00, -6.6085e-02,  5.9967e-01],\n",
    "         [ 2.2045e+00, -8.7268e-01, -1.4387e-01],\n",
    "         [ 1.4490e+00,  3.9731e-01,  5.6828e-01],\n",
    "         [ 2.1336e+00, -8.4676e-01, -1.0227e-01],\n",
    "         [ 1.7026e+00,  2.9447e-01,  6.1237e-01],\n",
    "         [ 1.7964e+00, -1.2200e+00,  6.3045e-02],\n",
    "         [ 1.6817e+00,  1.6242e-01,  6.1261e-01],\n",
    "         [ 1.9573e+00, -8.1582e-01, -2.8126e-01]],\n",
    "\n",
    "        [[ 1.9405e+00,  2.9406e-01,  3.5217e-01],\n",
    "         [ 1.9758e+00, -1.0851e+00, -3.2665e-01],\n",
    "         [ 1.7196e+00, -6.8629e-02,  5.6725e-01],\n",
    "         [ 2.1905e+00, -8.7023e-01, -1.8912e-01],\n",
    "         [ 1.4005e+00,  4.0263e-01,  5.4578e-01],\n",
    "         [ 2.1082e+00, -8.5503e-01, -1.5989e-01],\n",
    "         [ 1.6927e+00,  2.9247e-01,  5.5788e-01],\n",
    "         [ 1.7826e+00, -1.2292e+00,  5.3625e-02],\n",
    "         [ 1.6885e+00,  1.5754e-01,  5.6492e-01],\n",
    "         [ 1.9636e+00, -6.7127e-01, -2.8464e-01]],\n",
    "\n",
    "        [[ 1.9063e+00,  2.7989e-01,  2.9367e-01],\n",
    "         [ 1.9436e+00, -1.0756e+00, -3.7368e-01],\n",
    "         [ 1.6698e+00, -6.4448e-02,  5.0389e-01],\n",
    "         [ 2.1619e+00, -8.6395e-01, -2.5670e-01],\n",
    "         [ 1.3504e+00,  3.9234e-01,  5.2173e-01],\n",
    "         [ 2.0882e+00, -8.5901e-01, -2.3428e-01],\n",
    "         [ 1.6693e+00,  3.0905e-01,  5.0336e-01],\n",
    "         [ 1.7627e+00, -1.2241e+00,  2.5159e-02],\n",
    "         [ 1.6926e+00,  1.5875e-01,  5.0979e-01],\n",
    "         [ 1.9145e+00, -7.7559e-01, -4.2617e-01]],\n",
    "\n",
    "        [[ 1.8735e+00,  2.7033e-01,  2.5122e-01],\n",
    "         [ 1.9234e+00, -1.0543e+00, -4.2289e-01],\n",
    "         [ 1.6270e+00, -6.1787e-02,  4.5424e-01],\n",
    "         [ 2.1444e+00, -8.3866e-01, -3.1329e-01],\n",
    "         [ 1.3088e+00,  3.7161e-01,  5.2345e-01],\n",
    "         [ 2.0716e+00, -8.4804e-01, -2.9180e-01],\n",
    "         [ 1.5267e+00,  2.1234e-01,  6.6912e-01],\n",
    "         [ 1.7547e+00, -1.2121e+00, -6.6125e-04],\n",
    "         [ 1.8913e+00,  3.0968e-01,  3.6347e-01],\n",
    "         [ 1.9755e+00, -6.2137e-01, -3.9366e-01]],\n",
    "\n",
    "        [[ 1.8605e+00,  2.7523e-01,  2.5487e-01],\n",
    "         [ 1.9199e+00, -1.0237e+00, -4.3469e-01],\n",
    "         [ 1.6117e+00, -5.2229e-02,  4.4529e-01],\n",
    "         [ 2.1412e+00, -7.9659e-01, -3.2108e-01],\n",
    "         [ 1.2867e+00,  3.4278e-01,  5.5961e-01],\n",
    "         [ 2.0617e+00, -8.3336e-01, -3.0800e-01],\n",
    "         [ 1.6510e+00,  3.7004e-01,  4.4975e-01],\n",
    "         [ 1.7562e+00, -1.1862e+00, -8.4114e-04],\n",
    "         [ 1.6762e+00,  1.5893e-01,  5.0134e-01],\n",
    "         [ 1.9228e+00, -7.2413e-01, -4.4895e-01]]])"
   ]
  },
  {
   "cell_type": "code",
   "execution_count": 52,
   "metadata": {},
   "outputs": [
    {
     "data": {
      "text/plain": [
       "torch.Size([19, 10, 3])"
      ]
     },
     "execution_count": 52,
     "metadata": {},
     "output_type": "execute_result"
    }
   ],
   "source": [
    "traj.shape"
   ]
  },
  {
   "cell_type": "code",
   "execution_count": 68,
   "metadata": {},
   "outputs": [
    {
     "data": {
      "text/plain": [
       "tensor([[[ 1.7455e+00, -5.6844e-02,  6.1554e-01],\n",
       "         [ 1.6696e+00, -1.6585e-01,  7.4102e-01],\n",
       "         [ 1.6309e+00, -1.7856e-01,  7.0456e-01],\n",
       "         [ 1.5849e+00, -1.9901e-01,  6.1770e-01],\n",
       "         [ 1.5684e+00, -1.9590e-01,  5.3054e-01],\n",
       "         [ 1.5812e+00, -1.5451e-01,  4.6006e-01],\n",
       "         [ 1.6144e+00, -9.7311e-02,  4.1699e-01],\n",
       "         [ 1.7792e+00,  1.6336e-01,  2.9874e-01],\n",
       "         [ 1.6652e+00, -5.1144e-03,  4.1915e-01],\n",
       "         [ 1.7802e+00,  2.1647e-01,  2.8849e-01],\n",
       "         [ 1.7892e+00,  2.2245e-01,  3.1195e-01],\n",
       "         [ 1.8234e+00,  2.3182e-01,  3.3802e-01],\n",
       "         [ 1.8679e+00,  2.4728e-01,  3.8056e-01],\n",
       "         [ 1.9146e+00,  2.7293e-01,  4.1195e-01],\n",
       "         [ 1.9443e+00,  2.9547e-01,  4.0084e-01],\n",
       "         [ 1.9405e+00,  2.9406e-01,  3.5217e-01],\n",
       "         [ 1.9063e+00,  2.7989e-01,  2.9367e-01],\n",
       "         [ 1.8735e+00,  2.7033e-01,  2.5122e-01],\n",
       "         [ 1.8605e+00,  2.7523e-01,  2.5487e-01]],\n",
       "\n",
       "        [[ 1.7455e+00, -5.6844e-02,  6.1554e-01],\n",
       "         [ 1.7220e+00, -2.9131e-01,  3.0874e-01],\n",
       "         [ 1.8006e+00, -8.1478e-02,  6.2920e-01],\n",
       "         [ 1.7507e+00, -5.4340e-02,  5.9537e-01],\n",
       "         [ 1.7027e+00, -2.7014e-02,  5.6822e-01],\n",
       "         [ 1.6901e+00,  1.4884e-02,  5.4989e-01],\n",
       "         [ 1.7035e+00,  7.0474e-02,  5.3582e-01],\n",
       "         [ 1.6609e+00, -1.5770e-01,  5.8443e-01],\n",
       "         [ 1.6857e+00,  1.4457e-01,  4.8871e-01],\n",
       "         [ 1.6304e+00, -9.7313e-02,  5.6657e-01],\n",
       "         [ 1.6260e+00, -9.3626e-02,  5.6346e-01],\n",
       "         [ 1.6544e+00, -8.5343e-02,  5.6595e-01],\n",
       "         [ 1.6966e+00, -6.7730e-02,  5.8393e-01],\n",
       "         [ 1.7393e+00, -5.8384e-02,  6.0268e-01],\n",
       "         [ 1.7471e+00, -6.6085e-02,  5.9967e-01],\n",
       "         [ 1.7196e+00, -6.8629e-02,  5.6725e-01],\n",
       "         [ 1.6698e+00, -6.4448e-02,  5.0389e-01],\n",
       "         [ 1.6270e+00, -6.1787e-02,  4.5424e-01],\n",
       "         [ 1.6117e+00, -5.2229e-02,  4.4529e-01]],\n",
       "\n",
       "        [[ 1.7455e+00, -5.6844e-02,  6.1554e-01],\n",
       "         [ 1.6143e+00, -8.3562e-02,  7.0007e-01],\n",
       "         [ 1.5869e+00, -1.0427e-01,  6.7478e-01],\n",
       "         [ 1.5385e+00, -1.2356e-01,  6.2865e-01],\n",
       "         [ 1.4981e+00, -1.3350e-01,  5.7848e-01],\n",
       "         [ 1.4943e+00, -1.0713e-01,  5.4391e-01],\n",
       "         [ 1.5141e+00, -3.8685e-02,  5.3419e-01],\n",
       "         [ 1.5259e+00,  3.5003e-02,  5.3813e-01],\n",
       "         [ 1.5086e+00,  7.8764e-02,  5.5202e-01],\n",
       "         [ 1.4739e+00,  9.2773e-02,  5.6999e-01],\n",
       "         [ 1.4540e+00,  8.4122e-02,  5.8224e-01],\n",
       "         [ 1.4475e+00,  3.8639e-01,  4.7575e-01],\n",
       "         [ 1.4666e+00,  3.7360e-01,  5.2178e-01],\n",
       "         [ 1.4722e+00,  3.7975e-01,  5.5812e-01],\n",
       "         [ 1.4490e+00,  3.9731e-01,  5.6828e-01],\n",
       "         [ 1.4005e+00,  4.0263e-01,  5.4578e-01],\n",
       "         [ 1.3504e+00,  3.9234e-01,  5.2173e-01],\n",
       "         [ 1.3088e+00,  3.7161e-01,  5.2345e-01],\n",
       "         [ 1.2867e+00,  3.4278e-01,  5.5961e-01]],\n",
       "\n",
       "        [[ 1.7455e+00, -5.6844e-02,  6.1554e-01],\n",
       "         [ 1.8225e+00,  6.3072e-02,  7.2978e-01],\n",
       "         [ 1.6811e+00, -1.0307e-01,  3.1560e-01],\n",
       "         [ 1.6387e+00, -1.1173e-01,  1.9612e-01],\n",
       "         [ 1.7248e+00,  4.6674e-02,  5.6917e-01],\n",
       "         [ 1.5560e+00, -6.9145e-02,  7.3765e-02],\n",
       "         [ 1.7361e+00,  1.5478e-01,  5.5226e-01],\n",
       "         [ 1.3953e+00,  3.7005e-01,  3.5536e-01],\n",
       "         [ 1.3711e+00,  4.3088e-01,  3.5545e-01],\n",
       "         [ 1.3434e+00,  4.5955e-01,  3.6868e-01],\n",
       "         [ 1.3420e+00,  4.5787e-01,  3.9350e-01],\n",
       "         [ 1.6158e+00,  2.8005e-01,  5.9161e-01],\n",
       "         [ 1.6481e+00,  2.9515e-01,  6.1441e-01],\n",
       "         [ 1.6805e+00,  2.9929e-01,  6.3070e-01],\n",
       "         [ 1.7026e+00,  2.9447e-01,  6.1237e-01],\n",
       "         [ 1.6927e+00,  2.9247e-01,  5.5788e-01],\n",
       "         [ 1.6693e+00,  3.0905e-01,  5.0336e-01],\n",
       "         [ 1.5267e+00,  2.1234e-01,  6.6912e-01],\n",
       "         [ 1.6510e+00,  3.7004e-01,  4.4975e-01]],\n",
       "\n",
       "        [[ 1.7455e+00, -5.6844e-02,  6.1554e-01],\n",
       "         [ 1.8535e+00,  1.0582e-01,  7.7863e-01],\n",
       "         [ 1.3586e+00,  2.9348e-02,  6.0311e-01],\n",
       "         [ 1.3139e+00,  2.6348e-01,  5.2454e-01],\n",
       "         [ 1.4030e+00, -8.3446e-02,  1.5392e-01],\n",
       "         [ 1.6210e+00,  8.6811e-02,  4.8422e-01],\n",
       "         [ 1.4373e+00,  7.2495e-03,  7.1947e-02],\n",
       "         [ 1.6744e+00,  1.9671e-01,  5.0487e-01],\n",
       "         [ 1.4678e+00,  1.1955e-01,  5.3555e-02],\n",
       "         [ 1.6755e+00,  2.5939e-01,  5.5437e-01],\n",
       "         [ 1.4979e+00,  1.5432e-01,  1.2997e-01],\n",
       "         [ 1.5419e+00,  1.7032e-01,  6.4607e-01],\n",
       "         [ 1.6095e+00,  1.7503e-01,  6.5636e-01],\n",
       "         [ 1.6604e+00,  1.7319e-01,  6.4103e-01],\n",
       "         [ 1.6817e+00,  1.6242e-01,  6.1261e-01],\n",
       "         [ 1.6885e+00,  1.5754e-01,  5.6492e-01],\n",
       "         [ 1.6926e+00,  1.5875e-01,  5.0979e-01],\n",
       "         [ 1.8913e+00,  3.0968e-01,  3.6347e-01],\n",
       "         [ 1.6762e+00,  1.5893e-01,  5.0134e-01]],\n",
       "\n",
       "        [[ 2.0557e+00, -1.3469e+00, -1.2344e-02],\n",
       "         [ 1.9140e+00, -1.4430e+00,  2.4912e-03],\n",
       "         [ 1.8547e+00, -1.4492e+00, -4.6958e-02],\n",
       "         [ 1.8238e+00, -1.4544e+00, -1.4417e-01],\n",
       "         [ 1.8394e+00, -1.4384e+00, -2.4975e-01],\n",
       "         [ 1.8845e+00, -1.3881e+00, -3.3331e-01],\n",
       "         [ 1.9256e+00, -1.3133e+00, -3.7445e-01],\n",
       "         [ 1.9309e+00, -1.2384e+00, -3.8821e-01],\n",
       "         [ 1.8969e+00, -1.1791e+00, -3.8666e-01],\n",
       "         [ 1.8628e+00, -1.1508e+00, -3.7630e-01],\n",
       "         [ 1.8625e+00, -1.1397e+00, -3.5588e-01],\n",
       "         [ 1.8999e+00, -1.1268e+00, -3.4011e-01],\n",
       "         [ 1.9552e+00, -1.1132e+00, -3.2905e-01],\n",
       "         [ 1.9971e+00, -1.0978e+00, -3.1093e-01],\n",
       "         [ 1.9982e+00, -1.0875e+00, -3.0296e-01],\n",
       "         [ 1.9758e+00, -1.0851e+00, -3.2665e-01],\n",
       "         [ 1.9436e+00, -1.0756e+00, -3.7368e-01],\n",
       "         [ 1.9234e+00, -1.0543e+00, -4.2289e-01],\n",
       "         [ 1.9199e+00, -1.0237e+00, -4.3469e-01]],\n",
       "\n",
       "        [[ 2.0557e+00, -1.3469e+00, -1.2344e-02],\n",
       "         [ 1.7899e+00, -1.2139e+00, -1.1377e-01],\n",
       "         [ 1.9125e+00, -1.2195e+00, -3.2330e-02],\n",
       "         [ 1.9194e+00, -1.2811e+00, -7.6154e-02],\n",
       "         [ 1.9213e+00, -1.3231e+00, -1.6409e-01],\n",
       "         [ 2.0527e+00, -1.2575e+00, -2.9073e-01],\n",
       "         [ 2.0673e+00, -1.1685e+00, -3.0243e-01],\n",
       "         [ 2.0853e+00, -1.0686e+00, -3.0174e-01],\n",
       "         [ 2.0798e+00, -1.0054e+00, -2.9252e-01],\n",
       "         [ 2.0630e+00, -9.7775e-01, -2.7328e-01],\n",
       "         [ 2.0707e+00, -9.6333e-01, -2.4626e-01],\n",
       "         [ 2.1026e+00, -9.4216e-01, -2.1912e-01],\n",
       "         [ 2.1535e+00, -9.1276e-01, -1.8024e-01],\n",
       "         [ 2.1885e+00, -8.8474e-01, -1.4409e-01],\n",
       "         [ 2.2045e+00, -8.7268e-01, -1.4387e-01],\n",
       "         [ 2.1905e+00, -8.7023e-01, -1.8912e-01],\n",
       "         [ 2.1619e+00, -8.6395e-01, -2.5670e-01],\n",
       "         [ 2.1444e+00, -8.3866e-01, -3.1329e-01],\n",
       "         [ 2.1412e+00, -7.9659e-01, -3.2108e-01]],\n",
       "\n",
       "        [[ 2.0557e+00, -1.3469e+00, -1.2344e-02],\n",
       "         [ 2.0010e+00, -1.1760e+00,  6.2330e-03],\n",
       "         [ 2.1539e+00, -1.2050e+00, -1.5263e-01],\n",
       "         [ 2.1719e+00, -1.1868e+00, -1.9756e-01],\n",
       "         [ 2.1954e+00, -1.1625e+00, -2.4736e-01],\n",
       "         [ 1.8507e+00, -1.2163e+00, -1.4111e-01],\n",
       "         [ 1.8250e+00, -1.1131e+00, -2.5541e-01],\n",
       "         [ 2.0538e+00, -9.6563e-01, -2.8511e-01],\n",
       "         [ 2.0216e+00, -9.0186e-01, -2.5615e-01],\n",
       "         [ 2.0044e+00, -8.5657e-01, -2.0517e-01],\n",
       "         [ 2.0197e+00, -8.3992e-01, -1.5126e-01],\n",
       "         [ 2.0619e+00, -8.4376e-01, -1.1763e-01],\n",
       "         [ 2.1108e+00, -8.4002e-01, -9.2446e-02],\n",
       "         [ 2.1416e+00, -8.4328e-01, -8.1198e-02],\n",
       "         [ 2.1336e+00, -8.4676e-01, -1.0227e-01],\n",
       "         [ 2.1082e+00, -8.5503e-01, -1.5989e-01],\n",
       "         [ 2.0882e+00, -8.5901e-01, -2.3428e-01],\n",
       "         [ 2.0716e+00, -8.4804e-01, -2.9180e-01],\n",
       "         [ 2.0617e+00, -8.3336e-01, -3.0800e-01]],\n",
       "\n",
       "        [[ 2.0557e+00, -1.3469e+00, -1.2344e-02],\n",
       "         [ 1.8922e+00, -1.4924e+00, -5.2164e-02],\n",
       "         [ 1.8577e+00, -1.3940e+00,  3.9249e-02],\n",
       "         [ 1.7911e+00, -1.4470e+00,  4.5338e-02],\n",
       "         [ 1.7543e+00, -1.4842e+00,  8.6051e-03],\n",
       "         [ 1.8714e+00, -1.5074e+00, -6.7297e-02],\n",
       "         [ 1.9154e+00, -1.4425e+00, -1.2083e-01],\n",
       "         [ 1.8143e+00, -1.5419e+00, -1.1529e-01],\n",
       "         [ 1.7357e+00, -1.3148e+00, -4.9787e-02],\n",
       "         [ 1.7080e+00, -1.2694e+00, -2.0500e-02],\n",
       "         [ 1.7062e+00, -1.2408e+00,  6.9275e-03],\n",
       "         [ 1.7347e+00, -1.2233e+00,  2.1372e-02],\n",
       "         [ 1.7715e+00, -1.2138e+00,  3.8267e-02],\n",
       "         [ 1.7946e+00, -1.2089e+00,  5.7609e-02],\n",
       "         [ 1.7964e+00, -1.2200e+00,  6.3045e-02],\n",
       "         [ 1.7826e+00, -1.2292e+00,  5.3625e-02],\n",
       "         [ 1.7627e+00, -1.2241e+00,  2.5159e-02],\n",
       "         [ 1.7547e+00, -1.2121e+00, -6.6125e-04],\n",
       "         [ 1.7562e+00, -1.1862e+00, -8.4114e-04]],\n",
       "\n",
       "        [[ 2.0557e+00, -1.3469e+00, -1.2344e-02],\n",
       "         [ 2.1545e+00, -1.1199e+00, -4.4663e-02],\n",
       "         [ 1.7494e+00, -1.1951e+00, -1.3151e-02],\n",
       "         [ 1.6393e+00, -1.1473e+00, -1.2794e-01],\n",
       "         [ 1.5748e+00, -1.1021e+00, -2.2151e-01],\n",
       "         [ 1.7747e+00, -1.1206e+00, -3.4599e-01],\n",
       "         [ 1.7358e+00, -1.0169e+00, -2.3781e-01],\n",
       "         [ 1.6834e+00, -9.7446e-01, -1.9973e-01],\n",
       "         [ 1.7744e+00, -1.0325e+00, -3.3688e-01],\n",
       "         [ 1.8138e+00, -7.8683e-01, -2.2755e-01],\n",
       "         [ 1.7338e+00, -8.8851e-01, -2.8608e-01],\n",
       "         [ 1.8267e+00, -6.7438e-01, -1.9960e-01],\n",
       "         [ 1.8941e+00, -8.0758e-01, -2.5988e-01],\n",
       "         [ 1.9301e+00, -6.5119e-01, -2.1151e-01],\n",
       "         [ 1.9573e+00, -8.1582e-01, -2.8126e-01],\n",
       "         [ 1.9636e+00, -6.7127e-01, -2.8464e-01],\n",
       "         [ 1.9145e+00, -7.7559e-01, -4.2617e-01],\n",
       "         [ 1.9755e+00, -6.2137e-01, -3.9366e-01],\n",
       "         [ 1.9228e+00, -7.2413e-01, -4.4895e-01]]])"
      ]
     },
     "execution_count": 68,
     "metadata": {},
     "output_type": "execute_result"
    }
   ],
   "source": [
    "traj.permute(1,0,2).reshape(5, -1, 3).permute(1,0,2).reshape(-1, traj.shape[0], 5, 3).permute(0, 2, 1, 3).reshape(-1, traj.shape[0], 3)"
   ]
  },
  {
   "cell_type": "code",
   "execution_count": null,
   "metadata": {},
   "outputs": [],
   "source": []
  }
 ],
 "metadata": {
  "kernelspec": {
   "display_name": "Python 3",
   "language": "python",
   "name": "python3"
  },
  "language_info": {
   "codemirror_mode": {
    "name": "ipython",
    "version": 3
   },
   "file_extension": ".py",
   "mimetype": "text/x-python",
   "name": "python",
   "nbconvert_exporter": "python",
   "pygments_lexer": "ipython3",
   "version": "3.10.10"
  },
  "orig_nbformat": 4,
  "vscode": {
   "interpreter": {
    "hash": "5d2829036e2bc88c939bf26174c1338eed948a5b3088bd14378c54b2fc44eaba"
   }
  }
 },
 "nbformat": 4,
 "nbformat_minor": 2
}
